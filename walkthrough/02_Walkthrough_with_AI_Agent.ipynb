{
 "cells": [
  {
   "cell_type": "markdown",
   "metadata": {},
   "source": [
    "# Supply Chain Analysis via a Generative AI Agent and a Remote MCP Service"
   ]
  },
  {
   "cell_type": "code",
   "execution_count": 31,
   "metadata": {},
   "outputs": [],
   "source": [
    "#!pip3 install --upgrade --quiet google-adk neo4j-rust-ext"
   ]
  },
  {
   "cell_type": "code",
   "execution_count": 32,
   "metadata": {},
   "outputs": [],
   "source": [
    "import os\n",
    "import random\n",
    "import sys"
   ]
  },
  {
   "cell_type": "code",
   "execution_count": 33,
   "metadata": {},
   "outputs": [],
   "source": [
    "import logging\n",
    "\n",
    "logger = logging.getLogger('agent_neo4j_cypher')\n",
    "logger.info(\"Initializing Database for tools\")\n",
    "\n",
    "import logging\n",
    "\n",
    "logging.getLogger(\"neo4j\").setLevel(logging.INFO)\n",
    "logging.getLogger(\"google_genai\").setLevel(logging.INFO)\n",
    "\n",
    "import warnings\n",
    "warnings.filterwarnings(\"ignore\", category=UserWarning, module=\"google_genai.types\")\n",
    "warnings.filterwarnings(\"ignore\", category=UserWarning, module=\"neo4j.notifications\")\n"
   ]
  },
  {
   "cell_type": "code",
   "execution_count": 34,
   "metadata": {},
   "outputs": [],
   "source": [
    "#env setup\n",
    "import getpass\n",
    "import os\n",
    "from dotenv import load_dotenv\n",
    "\n",
    "#get env setup\n",
    "load_dotenv('scp.env', override=True)\n",
    "\n",
    "NEO4J_URI = os.getenv('NEO4J_URI')\n",
    "NEO4J_USERNAME = os.getenv('NEO4J_USERNAME')\n",
    "NEO4J_PASSWORD = os.getenv('NEO4J_PASSWORD')"
   ]
  },
  {
   "cell_type": "code",
   "execution_count": 35,
   "metadata": {},
   "outputs": [],
   "source": [
    "from google.adk.models.lite_llm import LiteLlm\n",
    "\n",
    "OPENAPI_KEY=os.getenv('OPENAPI_KEY')\n",
    "\n",
    "MODEL = LiteLlm(\n",
    "    model = \"openai/gpt-4.1\",\n",
    "    api_key = OPENAPI_KEY\n",
    ")"
   ]
  },
  {
   "cell_type": "markdown",
   "metadata": {},
   "source": [
    "### Connect to Neo4j Database. This is important as a fallback if remote agents don't get invoked"
   ]
  },
  {
   "cell_type": "code",
   "execution_count": 36,
   "metadata": {},
   "outputs": [
    {
     "name": "stderr",
     "output_type": "stream",
     "text": [
      "ERROR:neo4j.io:[#E175]  _: <CONNECTION> error: Failed to read from defunct connection IPv4Address(('p-e910978e-31de-0011.production-orch-0706.neo4j.io', 7687)) (ResolvedIPv4Address(('35.223.36.122', 7687))): BrokenPipeError(32, 'Broken pipe')\n",
      "WARNING:neo4j.pool:Transaction failed and will be retried in 1.1574318538142918s (Failed to read from defunct connection IPv4Address(('p-e910978e-31de-0011.production-orch-0706.neo4j.io', 7687)) (ResolvedIPv4Address(('35.223.36.122', 7687))))\n",
      "ERROR:neo4j.io:[#E172]  _: <CONNECTION> error: Failed to read from defunct connection ResolvedIPv4Address(('35.223.36.122', 7687)) (ResolvedIPv4Address(('35.223.36.122', 7687))): BrokenPipeError(32, 'Broken pipe')\n",
      "ERROR:neo4j.pool:Unable to retrieve routing information\n",
      "WARNING:neo4j.pool:Transaction failed and will be retried in 2.3558938341909452s (Unable to retrieve routing information)\n"
     ]
    },
    {
     "data": {
      "text/plain": [
       "[{'n': <Node element_id='4:c697636e-287e-427a-b5f3-65858f374b15:2557' labels=frozenset({'Suppliers'}) properties={'countryCode': 'US', 'companyName': 'ACME Biologics', 'iso3Code': 'USA'}>},\n",
       " {'n': <Node element_id='4:c697636e-287e-427a-b5f3-65858f374b15:61508' labels=frozenset({'Product', 'RM'}) properties={'generation': 'g1', 'productSKU': 'df4be3de-0c6b-4d2c-ac71-db4b9fbdf395', 'package': 'all', 'form': 'Tablet', 'strength': '5mg', 'materialType': 'RM', 'description': 'Iolescidib Tablet 5mg', 'location': 'Philadelphia PA/US', 'globalBrand': 'Iolescidib', 'rmSequence': 1}>}]"
      ]
     },
     "execution_count": 36,
     "metadata": {},
     "output_type": "execute_result"
    }
   ],
   "source": [
    "from neo4j import GraphDatabase\n",
    "from typing import Any\n",
    "import re\n",
    "\n",
    "class neo4jDatabase:\n",
    "    def __init__(self,  neo4j_uri: str, neo4j_username: str, neo4j_password: str):\n",
    "        \"\"\"Initialize connection to the Neo4j database\"\"\"\n",
    "        logger.debug(f\"Initializing database connection to {neo4j_uri}\")\n",
    "        d = GraphDatabase.driver(neo4j_uri, auth=(neo4j_username, neo4j_password))\n",
    "        d.verify_connectivity()\n",
    "        self.driver = d\n",
    "\n",
    "    def is_write_query(self, query: str) -> bool:\n",
    "      return re.search(r\"\\b(MERGE|CREATE|SET|DELETE|REMOVE|ADD)\\b\", query, re.IGNORECASE) is not None\n",
    "\n",
    "    def _execute_query(self, query: str, params: dict[str, Any] | None = None) -> list[dict[str, Any]]:\n",
    "        \"\"\"Execute a Cypher query and return results as a list of dictionaries\"\"\"\n",
    "        logger.debug(f\"Executing query: {query}\")\n",
    "        try:\n",
    "            if self.is_write_query(query):\n",
    "                logger.error(f\"Write query not supported {query}\")\n",
    "                raise \"Write Queries are not supported in this agent\"\n",
    "                # logger.debug(f\"Write query affected {counters}\")\n",
    "                # result = self.driver.execute_query(query, params)\n",
    "                # counters = vars(result.summary.counters)\n",
    "                # return [counters]\n",
    "            else:\n",
    "                result = self.driver.execute_query(query, params)\n",
    "                results = [dict(r) for r in result.records]\n",
    "                logger.debug(f\"Read query returned {len(results)} rows\")\n",
    "                return results\n",
    "        except Exception as e:\n",
    "            logger.error(f\"Database error executing query: {e}\\n{query}\")\n",
    "            raise\n",
    "\n",
    "db = neo4jDatabase(NEO4J_URI,NEO4J_USERNAME,NEO4J_PASSWORD)\n",
    "db._execute_query(\"match (n)-[]-() return n limit 2\")"
   ]
  },
  {
   "cell_type": "markdown",
   "metadata": {},
   "source": [
    "### Get basic queries as a fallback - Get Schema and Cypher query execution"
   ]
  },
  {
   "cell_type": "code",
   "execution_count": 37,
   "metadata": {},
   "outputs": [],
   "source": [
    "def get_schema() -> list[dict[str,Any]]:\n",
    "  \"\"\"Get the schema of the database, returns node-types(labels) with their types and attributes and relationships between node-labels\n",
    "  Args: None\n",
    "  Returns:\n",
    "    list[dict[str,Any]]: A list of dictionaries representing the schema of the database\n",
    "    For example\n",
    "    ```\n",
    "    [{'label': 'Person','attributes': {'summary': 'STRING','id': 'STRING unique indexed', 'name': 'STRING indexed'},\n",
    "      'relationships': {'HAS_PARENT': 'Person', 'HAS_CHILD': 'Person'}}]\n",
    "    ```\n",
    "  \"\"\"\n",
    "  try:\n",
    "      results = db._execute_query(\n",
    "              \"\"\"\n",
    "call apoc.meta.data() yield label, property, type, other, unique, index, elementType\n",
    "where elementType = 'node' and not label starts with '_'\n",
    "with label,\n",
    "collect(case when type <> 'RELATIONSHIP' then [property, type + case when unique then \" unique\" else \"\" end + case when index then \" indexed\" else \"\" end] end) as attributes,\n",
    "collect(case when type = 'RELATIONSHIP' then [property, head(other)] end) as relationships\n",
    "RETURN label, apoc.map.fromPairs(attributes) as attributes, apoc.map.fromPairs(relationships) as relationships\n",
    "              \"\"\"\n",
    "          )\n",
    "      return results\n",
    "  except Exception as e:\n",
    "      return [{\"error\":str(e)}]"
   ]
  },
  {
   "cell_type": "code",
   "execution_count": 38,
   "metadata": {},
   "outputs": [],
   "source": [
    "#get_schema()"
   ]
  },
  {
   "cell_type": "code",
   "execution_count": 39,
   "metadata": {},
   "outputs": [],
   "source": [
    "def execute_cypher_query(query: str, params: dict[str, Any]) -> list[dict[str, Any]]:\n",
    "    \"\"\"\n",
    "    Execute a Neo4j Cypher query and return results as a list of dictionaries\n",
    "    Args:\n",
    "        query (str): The Cypher query to execute\n",
    "        params (dict[str, Any], optional): The parameters to pass to the query or None.\n",
    "    Raises:\n",
    "        Exception: If there is an error executing the query\n",
    "    Returns:\n",
    "        list[dict[str, Any]]: A list of dictionaries representing the query results\n",
    "    \"\"\"\n",
    "    try:\n",
    "        if params is None:\n",
    "            params = {}\n",
    "        results = db._execute_query(query, params)\n",
    "        return results\n",
    "    except Exception as e:\n",
    "        return [{\"error\":str(e)}]"
   ]
  },
  {
   "cell_type": "code",
   "execution_count": 40,
   "metadata": {},
   "outputs": [
    {
     "data": {
      "text/plain": [
       "[{'1': 1}]"
      ]
     },
     "execution_count": 40,
     "metadata": {},
     "output_type": "execute_result"
    }
   ],
   "source": [
    "execute_cypher_query(\"RETURN 1\", None)"
   ]
  },
  {
   "cell_type": "code",
   "execution_count": 41,
   "metadata": {},
   "outputs": [],
   "source": [
    "from google.adk.agents import Agent\n",
    "\n",
    "supplier_agent = Agent(\n",
    "    model=MODEL,  # e.g. LiteLlm(model=\"openai/gpt-4\")\n",
    "    name='supplier_agent',\n",
    "    description=\"\"\"\n",
    "    The supply_chain_agent specializes in answering questions related to pharmaceutical supply chain flows,\n",
    "    raw material sourcing, batch traceability, and distributor demand.\n",
    "    It uses Cypher queries to retrieve structured insights from the graph, including supplier–API–drug product dependencies,\n",
    "    bottlenecks, and product lineage.\n",
    "    Use this agent when the user question involves anything from supplier relationships, product genealogy,\n",
    "    production stages, or distribution networks.\n",
    "    \"\"\",\n",
    "    instruction=\"\"\"\n",
    "      You are a pharmaceutical supply chain assistant with expertise in Neo4j and Cypher.\n",
    "      Your job is to trace product flows, map batch genealogy, and assess supply chain risk using graph data.\n",
    "\n",
    "      - You ALWAYS use the database schema first via the `get_schema` tool and cache it in memory.\n",
    "      - You generate Cypher queries based on the schema, not just user input — always verify labels and relationship types.\n",
    "      - For supply path tracing, use a chain like:\n",
    "        `(:Suppliers)-[:SUPPLIES_RM]-(:RM)-[:PRODUCT_FLOW*]-(:Product)-[:DISTRIBUTED_BY]-(:Distributor)`\n",
    "      - If asked about single-supplier risks or demand planning, write multi-step queries using aggregation or conditional filters.\n",
    "\n",
    "      When executing queries, ALWAYS use named parameters (`$sku`, `$brand`, `$market`) and pass them as dictionaries.\n",
    "      NEVER hardcode values inside the Cypher string — always externalize them into parameters.\n",
    "\n",
    "      If a Cypher query fails, retry up to 3 times by correcting it using the schema or prior data.\n",
    "      Use `execute_query` for all data retrieval.\n",
    "      If results are found, summarize them in natural language and optionally provide table or graph visualization prompts.\n",
    "      Pass results and control back to parent after completion.\n",
    "    \"\"\",\n",
    "    tools=[\n",
    "        get_schema,\n",
    "        execute_cypher_query\n",
    "    ]\n",
    ")"
   ]
  },
  {
   "cell_type": "code",
   "execution_count": 42,
   "metadata": {},
   "outputs": [],
   "source": [
    "graph_database_agent = Agent(\n",
    "    model=MODEL,\n",
    "    name='graph_database_agent',\n",
    "    description=\"\"\"\n",
    "    The graph_database_agent is able to fetch the schema of a neo4j graph database and execute read queries.\n",
    "    It will generate Cypher queries using the schema to fulfill the information requests and repeatedly\n",
    "    try to re-create and fix queries that error or don't return the expected results.\n",
    "    When passing requests to this agent, make sure to have clear specific instructions what data should be retrieved, how,\n",
    "    if aggregation is required or path expansion.\n",
    "    Don't use this generic query agent if other, more specific agents are available that can provide the requested information.\n",
    "    This is meant to be a fallback for structural questions (e.g. number of entities, or aggregation of values or very specific sorting/filtering)\n",
    "    Or when no other agent provides access to the data (inputs, results and shape) that is needed.\n",
    "    \"\"\",\n",
    "    instruction=\"\"\"\n",
    "      You are an Neo4j graph database and Cypher query expert, that must use the database schema with a user question and repeatedly generate valid cypher statements\n",
    "      to execute on the database and answer the user's questions in a friendly manner in natural language.\n",
    "      If in doubt the database schema is always prioritized when it comes to nodes-types (labels) or relationship-types or property names, never take the user's input at face value.\n",
    "      If the user requests also render tables, charts or other artifacts with the query results.\n",
    "      Always validate the correct node-labels at the end of a relationship based on the schema.\n",
    "\n",
    "      If a query fails or doesn't return data, use the error response 3 times to try to fix the generated query and re-run it, don't return the error to the user.\n",
    "      If you cannot fix the query, explain the issue to the user and apologize.\n",
    "      *You are prohibited* from using directional arrows (like -> or <-) in the graph patterns, always use undirected patterns like `(:Label)-[:TYPE]-(:Label)`.\n",
    "      You get negative points for using directional arrays in patterns.\n",
    "\n",
    "      Fetch the graph database schema first and keep it in session memory to access later for query generation.\n",
    "      Keep results of previous executions in session memory and access if needed, for instance ids or other attributes of nodes to find them again\n",
    "      removing the need to ask the user. This also allows for generating shorter, more focused and less error-prone queries\n",
    "      to for drill downs, sequences and loops.\n",
    "      If possible resolve names to primary keys or ids and use those for looking up entities.\n",
    "      The schema always indicates *outgoing* relationship-types from an entity to another entity, the graph patterns read like english language.\n",
    "      `company has supplier` would be the pattern `(o:Organization)-[:HAS_SUPPLIER]-(s:Organization)`\n",
    "\n",
    "      To get the schema of a database use the `get_schema` tool without parameters. Store the response of the schema tool in session context\n",
    "      to access later for query generation.\n",
    "\n",
    "      To answer a user question generate one or more Cypher statements based on the database schema and the parts of the user question.\n",
    "      If necessary resolve categorical attributes (like names, countries, industries, publications) first by retrieving them for a set of entities to translate from the user's request.\n",
    "      Use the `execute_query` tool repeatedly with the Cypher statements, you MUST generate statements that use named query parameters with `$parameter` style names\n",
    "      and MUST pass them as a second dictionary parameter to the tool, even if empty.\n",
    "      Parameter data can come from the users requests, prior query results or additional lookup queries.\n",
    "      After the data for the question has been sufficiently retrieved, pass the data and control back to the parent agent.\n",
    "    \"\"\",\n",
    "    tools=[\n",
    "        get_schema, execute_cypher_query\n",
    "    ]\n",
    ")"
   ]
  },
  {
   "cell_type": "code",
   "execution_count": 43,
   "metadata": {},
   "outputs": [],
   "source": [
    "import urllib.parse\n",
    "import httpx # Make sure httpx is imported at the top of your script\n",
    "\n",
    "import json\n",
    "import logging\n",
    "import asyncio\n",
    "from typing import Any, Callable, Coroutine, Dict, List\n",
    "from google.adk.agents import Agent\n",
    "from google.adk.tools import FunctionTool\n",
    "from google.adk.tools.mcp_tool.mcp_toolset import MCPToolset\n",
    "#from google.adk.tools.agent_tool import AgentTool\n",
    "\n",
    "BASE_URL = \"https://supply-chain-toolset-373589861902.us-central1.run.app\"\n",
    "\n",
    "POST_TOOLS = [\n",
    "    \"trace_supply_path\",\n",
    "    \"dependency_chain\",\n",
    "    \"run_cypher\",\n",
    "    \"distributors_for_product\",\n",
    "    \"logistics_optimization\"\n",
    "]\n",
    "\n",
    "def create_remote_tool_caller(\n",
    "    tool_name: str,\n",
    "    description: str,\n",
    "    base_url: str\n",
    ") -> Callable[..., Coroutine[Any, Any, str]]:\n",
    "    \"\"\"\n",
    "    This factory creates an async function to call a remote tool.\n",
    "    It now uses a much longer timeout to handle slow database queries.\n",
    "    \"\"\"\n",
    "    async def remote_tool_func(**kwargs) -> str:\n",
    "        tool_endpoint = f\"{base_url}/tools/{tool_name}\"\n",
    "        logging.info(f\"Preparing to call tool: {tool_name} with args: {kwargs}\")\n",
    "        \n",
    "        # Set a longer timeout to prevent the client from giving up too early.\n",
    "        timeout_config = httpx.Timeout(180.0, connect=5.0)\n",
    "\n",
    "        async with httpx.AsyncClient(timeout=timeout_config) as client:\n",
    "            try:\n",
    "                if tool_name in POST_TOOLS:\n",
    "                    logging.info(f\"Calling {tool_name} with POST.\")\n",
    "                    response = await client.post(tool_endpoint, json=kwargs)\n",
    "                else:\n",
    "                    if kwargs:\n",
    "                        query_string = urllib.parse.urlencode(kwargs)\n",
    "                        full_url = f\"{tool_endpoint}?{query_string}\"\n",
    "                        logging.info(f\"Calling {tool_name} with GET and query params: {full_url}\")\n",
    "                        response = await client.get(full_url)\n",
    "                    else:\n",
    "                        logging.info(f\"Calling {tool_name} with GET (no args).\")\n",
    "                        response = await client.get(tool_endpoint)\n",
    "\n",
    "                response.raise_for_status()\n",
    "                return json.dumps(response.json())\n",
    "            \n",
    "            except httpx.HTTPStatusError as e:\n",
    "                error_message = f\"HTTP Error {e.response.status_code} for {e.request.url}\"\n",
    "                logging.error(f\"{error_message}. Server response: {e.response.text}\")\n",
    "                return json.dumps({\"error\": error_message, \"details\": e.response.text})\n",
    "            except httpx.RequestError as e:\n",
    "                # This will catch timeouts and other connection errors\n",
    "                error_message = f\"A network request error occurred calling {tool_name}: {type(e).__name__}\"\n",
    "                logging.error(error_message)\n",
    "                return json.dumps({\"error\": error_message})\n",
    "    \n",
    "    remote_tool_func.__name__ = tool_name\n",
    "    remote_tool_func.__doc__ = description\n",
    "    return remote_tool_func"
   ]
  },
  {
   "cell_type": "markdown",
   "metadata": {},
   "source": [
    "## Dynamically Load Tools from the Remote MCP Service\n",
    "\n",
    "This approach decouples the agent from the tool implementation, allowing us to update the tools on the server without ever changing the agent's code."
   ]
  },
  {
   "cell_type": "code",
   "execution_count": 44,
   "metadata": {},
   "outputs": [],
   "source": [
    "\n",
    "async def load_tools_from_remote_server(base_url: str) -> List[FunctionTool]:\n",
    "    tools_endpoint = f\"{base_url}/tools\"\n",
    "    print(f\"\\nFetching tool definitions from: {tools_endpoint}\")\n",
    "    try:\n",
    "        async with httpx.AsyncClient() as client:\n",
    "            response = await client.get(tools_endpoint)\n",
    "            response.raise_for_status()\n",
    "            tool_definitions = response.json() # This is a LIST\n",
    "    except httpx.RequestError as e:\n",
    "        print(f\"FATAL: Could not fetch tools from server: {e}\")\n",
    "        return []\n",
    "\n",
    "    adk_tools = []\n",
    "\n",
    "     # --- Descriptions are now enhanced based on the Neo4j demo ---\n",
    "    for tool_info in tool_definitions:\n",
    "        tool_name = tool_info.get(\"name\")\n",
    "        if not tool_name: continue\n",
    "\n",
    "      \n",
    "        description = tool_info.get(\"description\", \"\")\n",
    "\n",
    "        # --- Provide detailed descriptions to guide the agent ---\n",
    "        if tool_name == \"trace_supply_path\" or tool_name == \"dependency_chain\":\n",
    "            description = (\n",
    "                \"Traces the full supply path for a product, from suppliers to distributors. \"\n",
    "                \"Use this for questions about product genealogy, origins, or to see the entire chain. \"\n",
    "                \"Requires a 'description' parameter containing the product name. \"\n",
    "                \"Example: {'description': 'Nabitegrpultide Caplet 50mg'}\"\n",
    "            )\n",
    "        elif tool_name == \"distributors_for_product\":\n",
    "            description = (\n",
    "                \"Finds all distributors for a specific product. \"\n",
    "                \"Requires a 'description' parameter. Example: {'description': 'Nabitegrpultide Caplet 50mg'}\"\n",
    "            )\n",
    "        elif tool_name == \"find_single_supplier_risks\":\n",
    "            description = (\n",
    "                \"Finds raw materials that are only supplied by a single company, highlighting potential risks.\"\n",
    "            )\n",
    "        elif tool_name == \"run_cypher\":\n",
    "            description = (\n",
    "                \"A powerful expert tool to execute a custom Cypher query against the database. \"\n",
    "                \"Only use this if no other specific tool can answer the user's question. \"\n",
    "                \"It REQUIRES a 'query' parameter with the Cypher string. \"\n",
    "                \"Example: {'query': 'MATCH (s:Suppliers) RETURN s.companyName LIMIT 5'}\"\n",
    "            )\n",
    "        \n",
    "        print(f\"  - Tool: {tool_name}\")\n",
    "        \n",
    "        tool_function = create_remote_tool_caller(\n",
    "            tool_name=tool_name, description=description, base_url=base_url\n",
    "        )\n",
    "        adk_tools.append(FunctionTool(func=tool_function))\n",
    "       \n",
    "    \n",
    "    print(f\"Added {len(adk_tools)} tools from MCP service\")\n",
    "    return adk_tools"
   ]
  },
  {
   "cell_type": "code",
   "execution_count": 45,
   "metadata": {},
   "outputs": [],
   "source": [
    "# equipment_agent = Agent(\n",
    "#     model=MODEL,\n",
    "#     name='equipment_agent',\n",
    "#     description=\"\"\"\n",
    "#     Answers questions related to equipment used in pharmaceutical production,\n",
    "#     including utilization, downtime, maintenance, and equipment-facility mapping.\n",
    "#     \"\"\",\n",
    "#     instruction=\"\"\"\n",
    "#     You are a supply chain equipment analyst.\n",
    "#     Use Cypher to find which equipment is used where, how often it's maintained, and which products it's associated with.\n",
    "\n",
    "#     Always check the graph schema for valid node labels like `:Equipment`, `:Facility`, `:Product`, and relationships like `:USED_IN`, `:LOCATED_AT`.\n",
    "#     Use `get_schema` first, then run queries with `execute_query`.\n",
    "\n",
    "#     Summarize results clearly, especially if certain equipment shows high downtime or low utilization.\n",
    "#     \"\"\",\n",
    "#     tools=tools\n",
    "# )"
   ]
  },
  {
   "cell_type": "code",
   "execution_count": 46,
   "metadata": {},
   "outputs": [],
   "source": [
    "\n",
    "\n",
    "\n",
    "# batch_trace_agent = Agent(\n",
    "#     model=MODEL,\n",
    "#     name='batch_trace_agent',\n",
    "#     description=\"\"\"\n",
    "#     Handles batch genealogy, recall tracing, and contamination mapping.\n",
    "#     Helps answer questions about where a batch came from and what it touched.\n",
    "#     \"\"\",\n",
    "#     instruction=\"\"\"\n",
    "#     You are an expert in pharmaceutical batch traceability.\n",
    "#     Use the graph to trace batch origins, production steps, and distribution endpoints.\n",
    "\n",
    "#     Follow chains like:\n",
    "#       (:Batch)-[:PART_OF*]->(:Product)-[:DISTRIBUTED_BY]->(:Distributor)\n",
    "\n",
    "#     Look for shared usage of equipment, suppliers, or ingredients across batches.\n",
    "#     Use named parameters in Cypher (like `$batchId`, `$productSKU`) and summarize lineage clearly.\n",
    "\n",
    "#     Use `get_schema` and `execute_query` as needed.\n",
    "#     \"\"\",\n",
    "#     tools=tools\n",
    "# )"
   ]
  },
  {
   "cell_type": "code",
   "execution_count": 47,
   "metadata": {},
   "outputs": [
    {
     "name": "stdout",
     "output_type": "stream",
     "text": [
      "\n",
      "Fetching tool definitions from: https://supply-chain-toolset-373589861902.us-central1.run.app/tools\n",
      "  - Tool: trace_supply_path\n",
      "  - Tool: dependency_chain\n",
      "  - Tool: find_single_supplier_risks\n",
      "  - Tool: top_suppliers_by_product_count\n",
      "  - Tool: top_suppliers_for_product\n",
      "  - Tool: raw_materials_by_supplier_count\n",
      "  - Tool: api_dependency_risk\n",
      "  - Tool: logistics_optimization\n",
      "  - Tool: distributors_for_product\n",
      "  - Tool: run_cypher\n",
      "  - Tool: get_schema\n",
      "Added 11 tools from MCP service\n"
     ]
    }
   ],
   "source": [
    "remote_tools = await load_tools_from_remote_server(BASE_URL)\n",
    "\n",
    "remote_scp_agent = Agent(\n",
    "        name=\"remote_scp_agent\",\n",
    "        description=\"\"\"Use this agent to access a set of external, remote tools from the MCPServer.\n",
    "This agent can answer questions about product genealogy, dependency chains, and distributor information.\n",
    "It is the ONLY agent that can trace supply paths or find distributors.\"\"\",\n",
    "        model=MODEL,\n",
    "        tools=remote_tools,\n",
    "        instruction=\"\"\"You are an expert analyst for a pharmaceutical supply chain graph. Your goal is to answer user questions by selecting the best tool and providing the correct arguments.\n",
    "Your process MUST be:\n",
    "1.  Carefully analyze the user's query to understand their core task (e.g., 'trace a path', 'find distributors').\n",
    "2.  Identify key entities in the query, especially the full product name like 'Nabitegrpultide Caplet 50mg'.\n",
    "3.  Review your available tools and select the one that is the best semantic match for the user's task.\n",
    "4.  If the chosen tool requires a 'description' parameter, you MUST use the full product name you identified in step 2 as its value.\n",
    "5.  Do not call a tool that requires a description without providing one. If you cannot find a product name in the query, you must ask the user for clarification.\n",
    "\"\"\"\n",
    "    )"
   ]
  },
  {
   "cell_type": "markdown",
   "metadata": {},
   "source": [
    "### Create expert toolkit from the remote toolset defined. \n",
    "### Define Supply Chain Logistics/Optimization, Batch Trace Agent and others"
   ]
  },
  {
   "cell_type": "code",
   "execution_count": 48,
   "metadata": {},
   "outputs": [],
   "source": [
    "\n",
    "# Toolkit for the batch tracing expert\n",
    "batch_trace_toolkit = [\n",
    "    tool for tool in remote_tools\n",
    "    if tool.func.__name__ in [\n",
    "        \"trace_supply_path\",\n",
    "        \"dependency_chain\",\n",
    "        \"get_schema\"\n",
    "    ]\n",
    "]\n",
    "\n",
    "#Build your specialist agents with their dedicated toolkits\n",
    "batch_trace_agent = Agent(\n",
    "        model=MODEL,\n",
    "        name='batch_trace_agent',\n",
    "        description=\"Handles batch genealogy, recall tracing, and contamination mapping.\",\n",
    "        instruction=\"You are an expert in pharmaceutical batch traceability. Use your tools to trace batch origins and dependencies.\",\n",
    "        tools=batch_trace_toolkit \n",
    "    )"
   ]
  },
  {
   "cell_type": "code",
   "execution_count": 49,
   "metadata": {},
   "outputs": [],
   "source": [
    "\n",
    "logistics_toolkit = [\n",
    "    tool for tool in remote_tools\n",
    "    if tool.func.__name__ in [\n",
    "        \"logistics_optimization\",\n",
    "        \"get_schema\"\n",
    "    ]\n",
    "]\n",
    "\n",
    "#Build your specialist agents with their dedicated toolkits\n",
    "logistics_optimization_agent = Agent(\n",
    "        model=MODEL,\n",
    "        name='logistics_optimization_agent',\n",
    "        description=\"Analyzes shipment logistics to find inefficiencies. Use this agent to find cross-border shipment issues or cyclic (looping) delivery routes for a specific product.\",\n",
    "        instruction=\"\"\"You are an expert in supply chain logistics optimization.\n",
    "Your primary goal is to use your tools to identify costly and inefficient shipping patterns.\n",
    "Focus on finding cross-border and cyclic movements in product flows.\"\"\",\n",
    "        tools=logistics_toolkit \n",
    "    )"
   ]
  },
  {
   "cell_type": "markdown",
   "metadata": {},
   "source": [
    "### Supply Chain Root Agent: Contains all remote and local agents as sub agents"
   ]
  },
  {
   "cell_type": "code",
   "execution_count": 50,
   "metadata": {},
   "outputs": [],
   "source": [
    "supply_chain_root_agent = Agent(\n",
    "    model=MODEL,\n",
    "    name='supply_chain_root_agent',\n",
    "    description=\"\"\"\n",
    "    Routes pharmaceutical supply chain questions to the appropriate domain agent.\n",
    "    Falls back to `database_agent` for schema-level or structural queries.\n",
    "    \"\"\",\n",
    "    instruction=\"\"\"\n",
    "    Route questions to:\n",
    "    - `supplier_agent` → sourcing, raw materials, supplier risks\n",
    "    - `equipment_agent` → utilization, downtime, machines\n",
    "    - `batch_trace_agent` → batch lineage, recalls, genealogy\n",
    "    - `database_agent` → graph structure, unusual queries, metadata, counts\n",
    "\n",
    "    Always prefer the most specific agent. Use the database agent only when no other agent fits.\n",
    "    \"\"\",\n",
    "    sub_agents=[\n",
    "        remote_scp_agent,\n",
    "        supplier_agent,\n",
    "        graph_database_agent,\n",
    "        batch_trace_agent,\n",
    "        logistics_optimization_agent,\n",
    "    ]\n",
    ")"
   ]
  },
  {
   "cell_type": "code",
   "execution_count": 51,
   "metadata": {},
   "outputs": [],
   "source": [
    "APP_NAME = 'Neo4j Supply Chain Optimizer'\n",
    "USER_ID = 'Mr. Neo'\n",
    "\n",
    "from google.adk.runners import InMemoryRunner\n",
    "from google.genai.types import Part, UserContent\n",
    "\n",
    "# Use your actual agent here\n",
    "runner = InMemoryRunner(app_name=APP_NAME, agent=supply_chain_root_agent)\n",
    "session = await runner.session_service.create_session(app_name=runner.app_name, user_id=USER_ID)\n",
    "\n",
    "\n",
    "# Create session\n",
    "session = await runner.session_service.create_session(\n",
    "    app_name=runner.app_name,\n",
    "    user_id=USER_ID\n",
    ")\n",
    "\n",
    "# Run prompt\n",
    "async def run_prompt(new_message: str):\n",
    "    content = UserContent(parts=[Part(text=new_message)])\n",
    "    final_response_text = \"No response from agent\"\n",
    "\n",
    "    async for event in runner.run_async(\n",
    "        user_id=session.user_id,\n",
    "        session_id=session.id,\n",
    "        new_message=content\n",
    "    ):\n",
    "        if event.is_final_response():\n",
    "            if event.content and event.content.parts:\n",
    "                final_response_text = event.content.parts[0].text\n",
    "                for part in event.content.parts:\n",
    "                    print(part.text, part.function_call, part.function_response)\n",
    "            elif event.actions and event.actions.escalate:\n",
    "                final_response_text = f\"Agent escalated: {event.error_message or 'No specific message.'}\"\n",
    "            break\n",
    "\n",
    "    return final_response_text"
   ]
  },
  {
   "cell_type": "code",
   "execution_count": 52,
   "metadata": {},
   "outputs": [
    {
     "name": "stdout",
     "output_type": "stream",
     "text": [
      "I identified 100 raw materials currently supplied in the supply chain. These were retrieved by querying the graph database for all Raw Material (RM) nodes that are linked from Suppliers nodes via the SUPPLIES_RM relationship. Here are sample names from the results:\n",
      "\n",
      "- Sulfaipredimultin Tablet 50mg\n",
      "- Predformin Caplet 5mg\n",
      "- Rifaiplanin Tablet 100mg\n",
      "- Nabitegrpultide Caplet 20mg\n",
      "- Perfluicoxib Tablet 250mg\n",
      "- Rifadildar Tablet 10mg\n",
      "- Bolierginicline Caplet 250mg\n",
      "- Viraaxoapezil Caplet 50mg\n",
      "- Iolescidib Tablet 10mg\n",
      "- Predformin Caplet 10mg\n",
      "\n",
      "...and many more (a total of 100 unique raw material names provided).\n",
      "\n",
      "How I found this out:\n",
      "- I used the database schema to understand that raw materials are modeled as RM nodes.\n",
      "- I checked that the SUPPLIES_RM relationship connects Suppliers to RM.\n",
      "- I ran a Cypher query to retrieve 100 distinct RM descriptions supplied by any supplier.\n",
      "\n",
      "You are interacting with the \"supplier_agent\", as assigned by the supply_chain_root_agent for this domain. If you’d like to see the full list or visualize the supply network, please let me know! None None\n"
     ]
    },
    {
     "data": {
      "text/plain": [
       "'I identified 100 raw materials currently supplied in the supply chain. These were retrieved by querying the graph database for all Raw Material (RM) nodes that are linked from Suppliers nodes via the SUPPLIES_RM relationship. Here are sample names from the results:\\n\\n- Sulfaipredimultin Tablet 50mg\\n- Predformin Caplet 5mg\\n- Rifaiplanin Tablet 100mg\\n- Nabitegrpultide Caplet 20mg\\n- Perfluicoxib Tablet 250mg\\n- Rifadildar Tablet 10mg\\n- Bolierginicline Caplet 250mg\\n- Viraaxoapezil Caplet 50mg\\n- Iolescidib Tablet 10mg\\n- Predformin Caplet 10mg\\n\\n...and many more (a total of 100 unique raw material names provided).\\n\\nHow I found this out:\\n- I used the database schema to understand that raw materials are modeled as RM nodes.\\n- I checked that the SUPPLIES_RM relationship connects Suppliers to RM.\\n- I ran a Cypher query to retrieve 100 distinct RM descriptions supplied by any supplier.\\n\\nYou are interacting with the \"supplier_agent\", as assigned by the supply_chain_root_agent for this domain. If you’d like to see the full list or visualize the supply network, please let me know!'"
      ]
     },
     "execution_count": 52,
     "metadata": {},
     "output_type": "execute_result"
    }
   ],
   "source": [
    "await run_prompt('Which raw materials are supplied, give me 100 names and tell how you found out, which agent did you call')"
   ]
  },
  {
   "cell_type": "code",
   "execution_count": 53,
   "metadata": {},
   "outputs": [
    {
     "name": "stdout",
     "output_type": "stream",
     "text": [
      "No, I did not call the MCPServer toolset for your previous question.\n",
      "\n",
      "Here is what happened:\n",
      "- The supply_chain_root_agent transferred your question directly to me (the supplier_agent).\n",
      "- As supplier_agent, I accessed the database schema and executed the Cypher query myself, using built-in database tools.\n",
      "- Specifically, I used the local Cypher query execution tools, not any external or remote MCPServer tools.\n",
      "\n",
      "If you specifically want information or traces retrieved using the MCPServer toolset (for example, remote genealogy tracing or distributor chains), please let me know and I can transfer your query to the appropriate agent (remote_scp_agent) that uses that toolset. None None\n"
     ]
    },
    {
     "data": {
      "text/plain": [
       "'No, I did not call the MCPServer toolset for your previous question.\\n\\nHere is what happened:\\n- The supply_chain_root_agent transferred your question directly to me (the supplier_agent).\\n- As supplier_agent, I accessed the database schema and executed the Cypher query myself, using built-in database tools.\\n- Specifically, I used the local Cypher query execution tools, not any external or remote MCPServer tools.\\n\\nIf you specifically want information or traces retrieved using the MCPServer toolset (for example, remote genealogy tracing or distributor chains), please let me know and I can transfer your query to the appropriate agent (remote_scp_agent) that uses that toolset.'"
      ]
     },
     "execution_count": 53,
     "metadata": {},
     "output_type": "execute_result"
    }
   ],
   "source": [
    "await run_prompt(\"for the above questions, did you call MCPServer toolset ?\")"
   ]
  },
  {
   "cell_type": "code",
   "execution_count": 54,
   "metadata": {},
   "outputs": [
    {
     "name": "stdout",
     "output_type": "stream",
     "text": [
      "Yes, I have now used the MCPServer toolset to answer your question about which raw materials are supplied.\n",
      "\n",
      "How I did it:\n",
      "- I used the MCPServer's remote toolset to retrieve a list of raw materials as modeled in the supply chain database.\n",
      "- Specifically, I used a tool that identifies and lists raw materials, along with their supplier locations and potential supplier risk.\n",
      "- These results are produced by querying the global supply chain data via MCPServer, rather than querying the local database.\n",
      "\n",
      "Sample results from the MCPServer toolset include:\n",
      "- Sulfaipredimultin (Philadelphia PA/US)\n",
      "- Predformin (Montevideo/UY)\n",
      "- Rifaiplanin (Montevideo/UY)\n",
      "- Nabitegrpultide (Lima/PE)\n",
      "- Perfluicoxib (Montevideo/UY)\n",
      "- Rifadildar (Montevideo/UY)\n",
      "- Bolierginicline (Quito/EC)\n",
      "- Viraaxoapezil (Sao Paulo/BR)\n",
      "- Iolescidib (Lima/PE)\n",
      "- Calciiarottecarin (Sao Jose dos Campos/BR)\n",
      "...and many more (full data contains up to 50, but can be extended).\n",
      "\n",
      "The agent that answered this is remote_scp_agent, which exclusively uses the MCPServer remote toolset.\n",
      "\n",
      "If you would like more detailed output, such as full lists, supplier risks, or additional attributes, let me know! None None\n"
     ]
    },
    {
     "data": {
      "text/plain": [
       "\"Yes, I have now used the MCPServer toolset to answer your question about which raw materials are supplied.\\n\\nHow I did it:\\n- I used the MCPServer's remote toolset to retrieve a list of raw materials as modeled in the supply chain database.\\n- Specifically, I used a tool that identifies and lists raw materials, along with their supplier locations and potential supplier risk.\\n- These results are produced by querying the global supply chain data via MCPServer, rather than querying the local database.\\n\\nSample results from the MCPServer toolset include:\\n- Sulfaipredimultin (Philadelphia PA/US)\\n- Predformin (Montevideo/UY)\\n- Rifaiplanin (Montevideo/UY)\\n- Nabitegrpultide (Lima/PE)\\n- Perfluicoxib (Montevideo/UY)\\n- Rifadildar (Montevideo/UY)\\n- Bolierginicline (Quito/EC)\\n- Viraaxoapezil (Sao Paulo/BR)\\n- Iolescidib (Lima/PE)\\n- Calciiarottecarin (Sao Jose dos Campos/BR)\\n...and many more (full data contains up to 50, but can be extended).\\n\\nThe agent that answered this is remote_scp_agent, which exclusively uses the MCPServer remote toolset.\\n\\nIf you would like more detailed output, such as full lists, supplier risks, or additional attributes, let me know!\""
      ]
     },
     "execution_count": 54,
     "metadata": {},
     "output_type": "execute_result"
    }
   ],
   "source": [
    "await run_prompt(\"can you use the MCPServer toolset to answer the question then?\")"
   ]
  },
  {
   "cell_type": "code",
   "execution_count": 55,
   "metadata": {},
   "outputs": [
    {
     "name": "stdout",
     "output_type": "stream",
     "text": [
      "I attempted to trace the full supply path for the product \"Diliprostzolast Tablet 50mg\" using the remote agent and the MCPServer toolset. However, no supply path data was returned for this product. This could mean that either the product does not currently have an established supply path in the MCPServer dataset, or that data for this specific product is missing.\n",
      "\n",
      "If you would like to investigate a different product, or explore related products, please let me know the full product name and I can try tracing the supply path again. None None\n"
     ]
    },
    {
     "data": {
      "text/plain": [
       "'I attempted to trace the full supply path for the product \"Diliprostzolast Tablet 50mg\" using the remote agent and the MCPServer toolset. However, no supply path data was returned for this product. This could mean that either the product does not currently have an established supply path in the MCPServer dataset, or that data for this specific product is missing.\\n\\nIf you would like to investigate a different product, or explore related products, please let me know the full product name and I can try tracing the supply path again.'"
      ]
     },
     "execution_count": 55,
     "metadata": {},
     "output_type": "execute_result"
    }
   ],
   "source": [
    "await run_prompt(\"Trace the supply path for a product Diliprostzolast Tablet 50mg using remote agent\")"
   ]
  },
  {
   "cell_type": "code",
   "execution_count": 56,
   "metadata": {},
   "outputs": [
    {
     "name": "stdout",
     "output_type": "stream",
     "text": [
      "Here are the top 25 suppliers with the highest product count, according to the MCPServer remote toolset:\n",
      "\n",
      "1. SuperPharma Solutions – 17,425 products\n",
      "2. Major Pharma Labs & BioTech – 14,129\n",
      "3. Ningbo Nuobai Pharmaceutical – 14,011\n",
      "4. ExtraPure Biologics – 12,883\n",
      "5. BioManufacturing Inc – 12,596\n",
      "6. Guangzhou Pharm & BioLabs – 10,634\n",
      "7. Chennai BioGenetics – 10,193\n",
      "8. Serious Genetics – 10,063\n",
      "9. Regen BioLabs – 9,918\n",
      "10. Big Pharma – 9,527\n",
      "11. Star Labs – 9,470\n",
      "12. BioGenetics Inc – 9,432\n",
      "13. Yuhan Corporation – 9,344\n",
      "14. Shanghai BioGenetics – 9,330\n",
      "15. Chemical INustries – 9,318\n",
      "16. Nanjing Biologics – 9,318\n",
      "17. UltraLabs BioGenetics – 9,306\n",
      "18. Dehli Labs – 9,236\n",
      "19. Chengdu BioLabs – 9,200\n",
      "20. BSP Pharmaceuticals S.p.A. – 9,049\n",
      "21. Ascential Medical & Life Sciences – 8,899\n",
      "22. Bangalore Biologics – 8,853\n",
      "23. Recreational BioLabs – 8,562\n",
      "24. Shanghai Pharmaceuticals – 8,434\n",
      "25. Another Pharma – 8,402\n",
      "\n",
      "This ranking was produced by the remote_scp_agent via the MCPServer system, which queries global pharmaceutical supply chain data for supplier nodes and their associated product counts. If you need information about further ranks, more detail, or particular regions, let me know! None None\n"
     ]
    },
    {
     "data": {
      "text/plain": [
       "'Here are the top 25 suppliers with the highest product count, according to the MCPServer remote toolset:\\n\\n1. SuperPharma Solutions – 17,425 products\\n2. Major Pharma Labs & BioTech – 14,129\\n3. Ningbo Nuobai Pharmaceutical – 14,011\\n4. ExtraPure Biologics – 12,883\\n5. BioManufacturing Inc – 12,596\\n6. Guangzhou Pharm & BioLabs – 10,634\\n7. Chennai BioGenetics – 10,193\\n8. Serious Genetics – 10,063\\n9. Regen BioLabs – 9,918\\n10. Big Pharma – 9,527\\n11. Star Labs – 9,470\\n12. BioGenetics Inc – 9,432\\n13. Yuhan Corporation – 9,344\\n14. Shanghai BioGenetics – 9,330\\n15. Chemical INustries – 9,318\\n16. Nanjing Biologics – 9,318\\n17. UltraLabs BioGenetics – 9,306\\n18. Dehli Labs – 9,236\\n19. Chengdu BioLabs – 9,200\\n20. BSP Pharmaceuticals S.p.A. – 9,049\\n21. Ascential Medical & Life Sciences – 8,899\\n22. Bangalore Biologics – 8,853\\n23. Recreational BioLabs – 8,562\\n24. Shanghai Pharmaceuticals – 8,434\\n25. Another Pharma – 8,402\\n\\nThis ranking was produced by the remote_scp_agent via the MCPServer system, which queries global pharmaceutical supply chain data for supplier nodes and their associated product counts. If you need information about further ranks, more detail, or particular regions, let me know!'"
      ]
     },
     "execution_count": 56,
     "metadata": {},
     "output_type": "execute_result"
    }
   ],
   "source": [
    "await run_prompt(\"List top 25 suppliers with the highest product count?\")"
   ]
  },
  {
   "cell_type": "code",
   "execution_count": 57,
   "metadata": {},
   "outputs": [
    {
     "name": "stdout",
     "output_type": "stream",
     "text": [
      "The following Active Pharmaceutical Ingredients (APIs) are used in 5 or more different Drug Products (DPs), as identified via the MCPServer toolset:\n",
      "\n",
      "1. Perfluicoxib – used in 6 different DPs\n",
      "2. Somcoiampa – used in 5 different DPs\n",
      "\n",
      "This result highlights APIs that are widely shared across multiple drug products, which is relevant for identifying dependency risks and potential supply vulnerabilities. If you need specific product/DPS names associated with each API, let me know! None None\n"
     ]
    },
    {
     "data": {
      "text/plain": [
       "'The following Active Pharmaceutical Ingredients (APIs) are used in 5 or more different Drug Products (DPs), as identified via the MCPServer toolset:\\n\\n1. Perfluicoxib – used in 6 different DPs\\n2. Somcoiampa – used in 5 different DPs\\n\\nThis result highlights APIs that are widely shared across multiple drug products, which is relevant for identifying dependency risks and potential supply vulnerabilities. If you need specific product/DPS names associated with each API, let me know!'"
      ]
     },
     "execution_count": 57,
     "metadata": {},
     "output_type": "execute_result"
    }
   ],
   "source": [
    "await run_prompt(\"Identify APIs used in 5 or more different DPs.\")"
   ]
  },
  {
   "cell_type": "code",
   "execution_count": 58,
   "metadata": {},
   "outputs": [
    {
     "name": "stdout",
     "output_type": "stream",
     "text": [
      "Yes, there are cyclic movements identified in the shipping of Nabitegrpultide. According to the logistics analysis via the MCPServer toolset, several supply routes involve the product returning to a previous location before reaching the final distributor—a classic sign of a logistics cycle that can increase costs and delay deliveries.\n",
      "\n",
      "Noteworthy cyclic movements:\n",
      "- Nabitegrpultide Caplet 20mg: Raritan NJ/US → San Francisco CA/US → Raritan NJ/US → North America Distributor\n",
      "- Nabitegrpultide Caplet 50mg: West Point PA/US → Boston MA/US → West Point PA/US → North America Distributor\n",
      "- Nabitegrpultide Caplet 5mg: St Louis MO/US → Boston MA/US → St Louis MO/US → Canadian Distributor\n",
      "- Nabitegrpultide Caplet 5mg: Sao Jose dos Campos/BR → Sao Paulo/BR → Sao Jose dos Campos/BR → Panama Distributor\n",
      "\n",
      "Additionally, there are numerous cross-border shipments with loops, but the above explicitly show a cyclic route.\n",
      "\n",
      "These cycles were detected by analyzing the geographic shipping paths for \"Nabitegrpultide\" using advanced shipment optimization diagnostics included in the MCPServer remote agent tools. If you want to visualize or further investigate any of these paths, please let me know! None None\n"
     ]
    },
    {
     "data": {
      "text/plain": [
       "'Yes, there are cyclic movements identified in the shipping of Nabitegrpultide. According to the logistics analysis via the MCPServer toolset, several supply routes involve the product returning to a previous location before reaching the final distributor—a classic sign of a logistics cycle that can increase costs and delay deliveries.\\n\\nNoteworthy cyclic movements:\\n- Nabitegrpultide Caplet 20mg: Raritan NJ/US → San Francisco CA/US → Raritan NJ/US → North America Distributor\\n- Nabitegrpultide Caplet 50mg: West Point PA/US → Boston MA/US → West Point PA/US → North America Distributor\\n- Nabitegrpultide Caplet 5mg: St Louis MO/US → Boston MA/US → St Louis MO/US → Canadian Distributor\\n- Nabitegrpultide Caplet 5mg: Sao Jose dos Campos/BR → Sao Paulo/BR → Sao Jose dos Campos/BR → Panama Distributor\\n\\nAdditionally, there are numerous cross-border shipments with loops, but the above explicitly show a cyclic route.\\n\\nThese cycles were detected by analyzing the geographic shipping paths for \"Nabitegrpultide\" using advanced shipment optimization diagnostics included in the MCPServer remote agent tools. If you want to visualize or further investigate any of these paths, please let me know!'"
      ]
     },
     "execution_count": 58,
     "metadata": {},
     "output_type": "execute_result"
    }
   ],
   "source": [
    "await run_prompt(\"Check for cyclic movements in the shipping of Nabitegrpultide?\")"
   ]
  },
  {
   "cell_type": "code",
   "execution_count": 59,
   "metadata": {},
   "outputs": [
    {
     "name": "stdout",
     "output_type": "stream",
     "text": [
      "Yes, there are multiple redundant or looping (cyclic) delivery routes identified in the shipping of Calciiarottecarin, which likely contribute to the high shipping costs.\n",
      "\n",
      "Notable cyclic or looping movements include:\n",
      "- Chicago IL/US → San Francisco CA/US → Chicago IL/US → Canadian Distributor (Caplet, 20mg, g1)\n",
      "- Collegeville PA/US → Raritan NJ/US → Collegeville PA/US → Canadian Distributor (Caplet, 50mg, g1)\n",
      "- Boston MA/US → Raritan NJ/US → Boston MA/US → Canadian Distributor (Caplet, 10mg, g2)\n",
      "- West Point PA/US → Chicago IL/US → West Point PA/US → North America Distributor (Caplet, 20mg & 50mg, g2)\n",
      "- Raritan NJ/US → Cambridge MA/US → Raritan NJ/US → North America Distributor (Caplet, 5mg, g2)\n",
      "\n",
      "In addition to these explicit cycles, many routes display repeated cross-border movements where the shipping path returns to an origin city before continuing to the destination distributor, such as:\n",
      "- Paris/FR → Brussels/BE → Paris/FR → Denmark Distributor\n",
      "- Sassenheim/NL → Bern/CH → Sassenheim/NL → Netherlands Distributor\n",
      "\n",
      "These patterns are generated by shipment logistics optimization analyses in the MCPServer remote toolset, and indicate inefficiencies such as unnecessary returns, which inflate cost.\n",
      "\n",
      "Addressing these cycles with direct routes or consolidations could yield significant cost savings for Calciiarottecarin shipments. If you need a breakdown by product strength or a visual map of these routes, let me know! None None\n"
     ]
    },
    {
     "data": {
      "text/plain": [
       "'Yes, there are multiple redundant or looping (cyclic) delivery routes identified in the shipping of Calciiarottecarin, which likely contribute to the high shipping costs.\\n\\nNotable cyclic or looping movements include:\\n- Chicago IL/US → San Francisco CA/US → Chicago IL/US → Canadian Distributor (Caplet, 20mg, g1)\\n- Collegeville PA/US → Raritan NJ/US → Collegeville PA/US → Canadian Distributor (Caplet, 50mg, g1)\\n- Boston MA/US → Raritan NJ/US → Boston MA/US → Canadian Distributor (Caplet, 10mg, g2)\\n- West Point PA/US → Chicago IL/US → West Point PA/US → North America Distributor (Caplet, 20mg & 50mg, g2)\\n- Raritan NJ/US → Cambridge MA/US → Raritan NJ/US → North America Distributor (Caplet, 5mg, g2)\\n\\nIn addition to these explicit cycles, many routes display repeated cross-border movements where the shipping path returns to an origin city before continuing to the destination distributor, such as:\\n- Paris/FR → Brussels/BE → Paris/FR → Denmark Distributor\\n- Sassenheim/NL → Bern/CH → Sassenheim/NL → Netherlands Distributor\\n\\nThese patterns are generated by shipment logistics optimization analyses in the MCPServer remote toolset, and indicate inefficiencies such as unnecessary returns, which inflate cost.\\n\\nAddressing these cycles with direct routes or consolidations could yield significant cost savings for Calciiarottecarin shipments. If you need a breakdown by product strength or a visual map of these routes, let me know!'"
      ]
     },
     "execution_count": 59,
     "metadata": {},
     "output_type": "execute_result"
    }
   ],
   "source": [
    "await run_prompt(\"We are seeing high shipping costs for Calciiarottecarin. Can you find any redundant or looping delivery routes\")"
   ]
  },
  {
   "cell_type": "code",
   "execution_count": 60,
   "metadata": {},
   "outputs": [
    {
     "name": "stdout",
     "output_type": "stream",
     "text": [
      "Here is a list of raw materials along with their locations, and an indicator of supplier risk. All listed raw materials currently have only a single identified supplier (SupplierRisk = 1), which is a flag for potential supply chain vulnerability.\n",
      "\n",
      "Sample results:\n",
      "- Sulfaipredimultin (Philadelphia PA/US) — Single supplier\n",
      "- Predformin (Montevideo/UY) — Single supplier\n",
      "- Rifaiplanin (Montevideo/UY) — Single supplier\n",
      "- Nabitegrpultide (Lima/PE) — Single supplier\n",
      "- Perfluicoxib (Montevideo/UY) — Single supplier\n",
      "- Rifadildar (Montevideo/UY) — Single supplier\n",
      "- Bolierginicline (Quito/EC) — Single supplier\n",
      "- Viraaxoapezil (Sao Paulo/BR) — Single supplier\n",
      "- Iolescidib (Lima/PE) — Single supplier\n",
      "- Calciiarottecarin (Sao Jose dos Campos/BR) — Single supplier\n",
      "\n",
      "...and many more in the dataset, each currently sourced by only one supplier.\n",
      "\n",
      "Materials with a single supplier are flagged as \"SupplierRisk = 1\". This is a potential concern for business continuity and risk mitigation—alternative suppliers should be considered for these raw materials if possible.\n",
      "\n",
      "Would you like a CSV export or a complete table of all such materials? None None\n"
     ]
    },
    {
     "data": {
      "text/plain": [
       "'Here is a list of raw materials along with their locations, and an indicator of supplier risk. All listed raw materials currently have only a single identified supplier (SupplierRisk = 1), which is a flag for potential supply chain vulnerability.\\n\\nSample results:\\n- Sulfaipredimultin (Philadelphia PA/US) — Single supplier\\n- Predformin (Montevideo/UY) — Single supplier\\n- Rifaiplanin (Montevideo/UY) — Single supplier\\n- Nabitegrpultide (Lima/PE) — Single supplier\\n- Perfluicoxib (Montevideo/UY) — Single supplier\\n- Rifadildar (Montevideo/UY) — Single supplier\\n- Bolierginicline (Quito/EC) — Single supplier\\n- Viraaxoapezil (Sao Paulo/BR) — Single supplier\\n- Iolescidib (Lima/PE) — Single supplier\\n- Calciiarottecarin (Sao Jose dos Campos/BR) — Single supplier\\n\\n...and many more in the dataset, each currently sourced by only one supplier.\\n\\nMaterials with a single supplier are flagged as \"SupplierRisk = 1\". This is a potential concern for business continuity and risk mitigation—alternative suppliers should be considered for these raw materials if possible.\\n\\nWould you like a CSV export or a complete table of all such materials?'"
      ]
     },
     "execution_count": 60,
     "metadata": {},
     "output_type": "execute_result"
    }
   ],
   "source": [
    "await run_prompt(\"List raw materials and their number of suppliers. Flags ones with single suppliers?\")"
   ]
  },
  {
   "cell_type": "code",
   "execution_count": 61,
   "metadata": {},
   "outputs": [
    {
     "name": "stdout",
     "output_type": "stream",
     "text": [
      "Deleting session 1863a7a6-dc8b-49f8-8838-a1924e6959cd\n",
      "Deleting session 708fee3b-4ed3-4516-93ce-cb457abd7254\n"
     ]
    }
   ],
   "source": [
    "sessions_response = await runner.session_service.list_sessions(\n",
    "    app_name=APP_NAME,\n",
    "    user_id=USER_ID\n",
    ")\n",
    "\n",
    "for session in sessions_response.sessions:\n",
    "    print(f\"Deleting session {session.id}\")\n",
    "    await runner.session_service.delete_session(\n",
    "        app_name=APP_NAME,\n",
    "        user_id=USER_ID,\n",
    "        session_id=session.id\n",
    "    )"
   ]
  }
 ],
 "metadata": {
  "kernelspec": {
   "display_name": "venv",
   "language": "python",
   "name": "python3"
  },
  "language_info": {
   "codemirror_mode": {
    "name": "ipython",
    "version": 3
   },
   "file_extension": ".py",
   "mimetype": "text/x-python",
   "name": "python",
   "nbconvert_exporter": "python",
   "pygments_lexer": "ipython3",
   "version": "3.11.13"
  }
 },
 "nbformat": 4,
 "nbformat_minor": 2
}
