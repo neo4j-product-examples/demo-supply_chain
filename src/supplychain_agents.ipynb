{
 "cells": [
  {
   "cell_type": "markdown",
   "metadata": {},
   "source": [
    "This is work in progress. Trying to create agents for Supplier, Equipment, Batch"
   ]
  },
  {
   "cell_type": "code",
   "execution_count": 1,
   "metadata": {},
   "outputs": [],
   "source": [
    "\n",
    "!pip3 install --upgrade --quiet google-adk neo4j-rust-ext"
   ]
  },
  {
   "cell_type": "code",
   "execution_count": 2,
   "metadata": {},
   "outputs": [],
   "source": [
    "import os\n",
    "import random\n",
    "import sys"
   ]
  },
  {
   "cell_type": "code",
   "execution_count": 3,
   "metadata": {},
   "outputs": [],
   "source": [
    "# Only run this block for ML Developer API. Use your own API key.\n",
    "# import os\n",
    "\n",
    "# GOOGLE_API_KEY = \"YOUR API KEY\" #@param {type:\"string\"}\n",
    "\n",
    "# os.environ[\"GOOGLE_GENAI_USE_VERTEXAI\"] = \"0\"\n",
    "# os.environ[\"GOOGLE_API_KEY\"] = GOOGLE_API_KEY"
   ]
  },
  {
   "cell_type": "code",
   "execution_count": 4,
   "metadata": {},
   "outputs": [],
   "source": [
    "# Only run this block for Vertex AI API Use your own project / location.\n",
    "# import os\n",
    "\n",
    "# GOOGLE_CLOUD_PROJECT = \"YOUR GCP CLOUD PROJECT\" #@param {type:\"string\"}\n",
    "\n",
    "# os.environ[\"GOOGLE_GENAI_USE_VERTEXAI\"] = \"1\"\n",
    "# os.environ[\"GOOGLE_CLOUD_PROJECT\"] = GOOGLE_CLOUD_PROJECT\n",
    "# os.environ[\"GOOGLE_CLOUD_LOCATION\"] = \"us-central1\""
   ]
  },
  {
   "cell_type": "code",
   "execution_count": null,
   "metadata": {},
   "outputs": [],
   "source": [
    "from google.adk.models.lite_llm import LiteLlm\n",
    "\n",
    "MODEL = LiteLlm(\n",
    "    model=\"openai/gpt-4.1\",  # or \"gpt-3.5-turbo\"\n",
    "    api_key=\"your openai api key\"  # your actual OpenAI API key\n",
    ")"
   ]
  },
  {
   "cell_type": "code",
   "execution_count": 6,
   "metadata": {},
   "outputs": [],
   "source": [
    "import logging\n",
    "\n",
    "logger = logging.getLogger('agent_neo4j_cypher')\n",
    "logger.info(\"Initializing Database for tools\")\n",
    "\n",
    "import logging\n",
    "\n",
    "logging.getLogger(\"neo4j\").setLevel(logging.ERROR)\n",
    "logging.getLogger(\"google_genai\").setLevel(logging.ERROR)\n",
    "\n",
    "import warnings\n",
    "warnings.filterwarnings(\"ignore\", category=UserWarning, module=\"google_genai.types\")\n",
    "warnings.filterwarnings(\"ignore\", category=UserWarning, module=\"neo4j.notifications\")\n"
   ]
  },
  {
   "cell_type": "code",
   "execution_count": 7,
   "metadata": {},
   "outputs": [],
   "source": [
    "#env setup\n",
    "import getpass\n",
    "import os\n",
    "from dotenv import load_dotenv\n",
    "\n",
    "#get env setup\n",
    "load_dotenv('scp.env', override=True)\n",
    "\n",
    "NEO4J_URI = os.getenv('NEO4J_URI')\n",
    "NEO4J_USERNAME = os.getenv('NEO4J_USERNAME')\n",
    "NEO4J_PASSWORD = os.getenv('NEO4J_PASSWORD')"
   ]
  },
  {
   "cell_type": "code",
   "execution_count": 8,
   "metadata": {},
   "outputs": [],
   "source": [
    "# from neo4j import GraphDatabase\n",
    "\n",
    "# # load into People nodes in Neo4j\n",
    "\n",
    "# #instantiate driver\n",
    "# driver = GraphDatabase.driver(NEO4J_URI, auth=(NEO4J_USERNAME, NEO4J_PASSWORD))\n",
    "\n",
    "# # Your Cypher query\n",
    "\n",
    "# print(\"Checking the connection:\")\n",
    "\n",
    "# # Helper function to run and display Cypher query results\n",
    "# def run_query(query, parameters=None):\n",
    "#     with driver.session() as session:\n",
    "#         result = session.run(query, parameters)\n",
    "#         # Collect results as a list\n",
    "#         records = [record.data() for record in result]\n",
    "#         # Print the records\n",
    "#         for record in records:\n",
    "#             print(record)\n",
    "#         return records\n",
    "\n",
    "# # Run the query; check the connection\n",
    "# query = \"MATCH p=()-[]-() limit 10 RETURN p\"\n",
    "# results = run_query(query) "
   ]
  },
  {
   "cell_type": "code",
   "execution_count": 9,
   "metadata": {},
   "outputs": [],
   "source": [
    "from neo4j import GraphDatabase\n",
    "from typing import Any\n",
    "import re\n",
    "\n",
    "class neo4jDatabase:\n",
    "    def __init__(self,  neo4j_uri: str, neo4j_username: str, neo4j_password: str):\n",
    "        \"\"\"Initialize connection to the Neo4j database\"\"\"\n",
    "        logger.debug(f\"Initializing database connection to {neo4j_uri}\")\n",
    "        d = GraphDatabase.driver(neo4j_uri, auth=(neo4j_username, neo4j_password))\n",
    "        d.verify_connectivity()\n",
    "        self.driver = d\n",
    "\n",
    "    def is_write_query(self, query: str) -> bool:\n",
    "      return re.search(r\"\\b(MERGE|CREATE|SET|DELETE|REMOVE|ADD)\\b\", query, re.IGNORECASE) is not None\n",
    "\n",
    "    def _execute_query(self, query: str, params: dict[str, Any] | None = None) -> list[dict[str, Any]]:\n",
    "        \"\"\"Execute a Cypher query and return results as a list of dictionaries\"\"\"\n",
    "        logger.debug(f\"Executing query: {query}\")\n",
    "        try:\n",
    "            if self.is_write_query(query):\n",
    "                logger.error(f\"Write query not supported {query}\")\n",
    "                raise \"Write Queries are not supported in this agent\"\n",
    "                # logger.debug(f\"Write query affected {counters}\")\n",
    "                # result = self.driver.execute_query(query, params)\n",
    "                # counters = vars(result.summary.counters)\n",
    "                # return [counters]\n",
    "            else:\n",
    "                result = self.driver.execute_query(query, params)\n",
    "                results = [dict(r) for r in result.records]\n",
    "                logger.debug(f\"Read query returned {len(results)} rows\")\n",
    "                return results\n",
    "        except Exception as e:\n",
    "            logger.error(f\"Database error executing query: {e}\\n{query}\")\n",
    "            raise"
   ]
  },
  {
   "cell_type": "code",
   "execution_count": 10,
   "metadata": {},
   "outputs": [],
   "source": [
    "db = neo4jDatabase(NEO4J_URI,NEO4J_USERNAME,NEO4J_PASSWORD)"
   ]
  },
  {
   "cell_type": "code",
   "execution_count": 11,
   "metadata": {},
   "outputs": [
    {
     "data": {
      "text/plain": [
       "[{'1': 1}]"
      ]
     },
     "execution_count": 11,
     "metadata": {},
     "output_type": "execute_result"
    }
   ],
   "source": [
    "db._execute_query(\"RETURN 1\")"
   ]
  },
  {
   "cell_type": "code",
   "execution_count": 12,
   "metadata": {},
   "outputs": [],
   "source": [
    "def get_schema() -> list[dict[str,Any]]:\n",
    "  \"\"\"Get the schema of the database, returns node-types(labels) with their types and attributes and relationships between node-labels\n",
    "  Args: None\n",
    "  Returns:\n",
    "    list[dict[str,Any]]: A list of dictionaries representing the schema of the database\n",
    "    For example\n",
    "    ```\n",
    "    [{'label': 'Person','attributes': {'summary': 'STRING','id': 'STRING unique indexed', 'name': 'STRING indexed'},\n",
    "      'relationships': {'HAS_PARENT': 'Person', 'HAS_CHILD': 'Person'}}]\n",
    "    ```\n",
    "  \"\"\"\n",
    "  try:\n",
    "      results = db._execute_query(\n",
    "              \"\"\"\n",
    "call apoc.meta.data() yield label, property, type, other, unique, index, elementType\n",
    "where elementType = 'node' and not label starts with '_'\n",
    "with label,\n",
    "collect(case when type <> 'RELATIONSHIP' then [property, type + case when unique then \" unique\" else \"\" end + case when index then \" indexed\" else \"\" end] end) as attributes,\n",
    "collect(case when type = 'RELATIONSHIP' then [property, head(other)] end) as relationships\n",
    "RETURN label, apoc.map.fromPairs(attributes) as attributes, apoc.map.fromPairs(relationships) as relationships\n",
    "              \"\"\"\n",
    "          )\n",
    "      return results\n",
    "  except Exception as e:\n",
    "      return [{\"error\":str(e)}]"
   ]
  },
  {
   "cell_type": "code",
   "execution_count": 13,
   "metadata": {},
   "outputs": [],
   "source": [
    "#get_schema()"
   ]
  },
  {
   "cell_type": "code",
   "execution_count": 14,
   "metadata": {},
   "outputs": [],
   "source": [
    "def execute_read_query(query: str, params: dict[str, Any]) -> list[dict[str, Any]]:\n",
    "    \"\"\"\n",
    "    Execute a Neo4j Cypher query and return results as a list of dictionaries\n",
    "    Args:\n",
    "        query (str): The Cypher query to execute\n",
    "        params (dict[str, Any], optional): The parameters to pass to the query or None.\n",
    "    Raises:\n",
    "        Exception: If there is an error executing the query\n",
    "    Returns:\n",
    "        list[dict[str, Any]]: A list of dictionaries representing the query results\n",
    "    \"\"\"\n",
    "    try:\n",
    "        if params is None:\n",
    "            params = {}\n",
    "        results = db._execute_query(query, params)\n",
    "        return results\n",
    "    except Exception as e:\n",
    "        return [{\"error\":str(e)}]"
   ]
  },
  {
   "cell_type": "code",
   "execution_count": 15,
   "metadata": {},
   "outputs": [
    {
     "data": {
      "text/plain": [
       "[{'1': 1}]"
      ]
     },
     "execution_count": 15,
     "metadata": {},
     "output_type": "execute_result"
    }
   ],
   "source": [
    "execute_read_query(\"RETURN 1\", None)"
   ]
  },
  {
   "cell_type": "markdown",
   "metadata": {},
   "source": [
    "SupplyChainAgent Python Function"
   ]
  },
  {
   "cell_type": "code",
   "execution_count": 16,
   "metadata": {},
   "outputs": [],
   "source": [
    "from typing import Any\n",
    "def get_supply_chain_path(product_sku: str, db) -> list[dict[str, Any]]:\n",
    "    \"\"\"\n",
    "    Traces the supply chain path for a given pharmaceutical product SKU.\n",
    "    \n",
    "    Args:\n",
    "        product_sku (str): The product SKU to trace.\n",
    "        db: A Neo4j database session with an `_execute_query` method.\n",
    "\n",
    "    Returns:\n",
    "        List of dicts with nodes and relationships along the path.\n",
    "    \"\"\"\n",
    "    try:\n",
    "        results = db._execute_query(\"\"\"\n",
    "            MATCH path = \n",
    "              (sup:Suppliers)-[:SUPPLIES_RM]->(rm:RM)\n",
    "              -[:PRODUCT_FLOW*]->(prod:Product)\n",
    "              -[:DISTRIBUTED_BY]->(dist:Distributor)\n",
    "            WHERE prod.productSKU = $sku\n",
    "            RETURN \n",
    "              [n IN nodes(path) | properties(n) + {labels: labels(n)}] AS nodes,\n",
    "              [r IN relationships(path) | properties(r) + {type: type(r)}] AS relationships\n",
    "        \"\"\", {\"sku\": product_sku})\n",
    "        return results\n",
    "    except Exception as e:\n",
    "        return [{\"error\": str(e)}]"
   ]
  },
  {
   "cell_type": "code",
   "execution_count": null,
   "metadata": {},
   "outputs": [
    {
     "data": {
      "text/plain": [
       "{'tool_name': 'run_cypher_supply_chain',\n",
       " 'parameters': {'query': 'MATCH path = (sup:Suppliers)-[:SUPPLIES_RM]->(rm:RM)-[:PRODUCT_FLOW*]->(prod:Product)-[:DISTRIBUTED_BY]->(dist:Distributor) WHERE prod.productSKU = $sku RETURN [n IN nodes(path) | properties(n) + {labels: labels(n)}] AS nodes, [r IN relationships(path) | properties(r) + {type: type(r)}] AS relationships',\n",
       "  'parameters': {'sku': '7e882292-ae98-45eb-8119-596b5d8b73e1'}}}"
      ]
     },
     "execution_count": 17,
     "metadata": {},
     "output_type": "execute_result"
    }
   ],
   "source": [
    "# DONT NEED THIS\n",
    "{\n",
    "  \"tool_name\": \"run_cypher_supply_chain\",\n",
    "  \"parameters\": {\n",
    "    \"query\": \"MATCH path = (sup:Suppliers)-[:SUPPLIES_RM]->(rm:RM)-[:PRODUCT_FLOW*]->(prod:Product)-[:DISTRIBUTED_BY]->(dist:Distributor) WHERE prod.productSKU = $sku RETURN [n IN nodes(path) | properties(n) + {labels: labels(n)}] AS nodes, [r IN relationships(path) | properties(r) + {type: type(r)}] AS relationships\",\n",
    "    \"parameters\": {\n",
    "      \"sku\": \"7e882292-ae98-45eb-8119-596b5d8b73e1\"\n",
    "    }\n",
    "  }\n",
    "}"
   ]
  },
  {
   "cell_type": "code",
   "execution_count": 18,
   "metadata": {},
   "outputs": [],
   "source": [
    "from google.adk.agents import Agent"
   ]
  },
  {
   "cell_type": "code",
   "execution_count": 19,
   "metadata": {},
   "outputs": [],
   "source": [
    "# MODEL=\"gemini-2.5-pro-exp-03-25\""
   ]
  },
  {
   "cell_type": "code",
   "execution_count": 20,
   "metadata": {},
   "outputs": [],
   "source": [
    "from google.adk.agents import Agent\n",
    "\n",
    "supplier_agent = Agent(\n",
    "    model=MODEL,  # e.g. LiteLlm(model=\"openai/gpt-4\")\n",
    "    name='supplier_agent',\n",
    "    description=\"\"\"\n",
    "    The supply_chain_agent specializes in answering questions related to pharmaceutical supply chain flows,\n",
    "    raw material sourcing, batch traceability, and distributor demand.\n",
    "    It uses Cypher queries to retrieve structured insights from the graph, including supplier–API–drug product dependencies,\n",
    "    bottlenecks, and product lineage.\n",
    "    Use this agent when the user question involves anything from supplier relationships, product genealogy,\n",
    "    production stages, or distribution networks.\n",
    "    \"\"\",\n",
    "    instruction=\"\"\"\n",
    "      You are a pharmaceutical supply chain assistant with expertise in Neo4j and Cypher.\n",
    "      Your job is to trace product flows, map batch genealogy, and assess supply chain risk using graph data.\n",
    "\n",
    "      - You ALWAYS use the database schema first via the `get_schema` tool and cache it in memory.\n",
    "      - You generate Cypher queries based on the schema, not just user input — always verify labels and relationship types.\n",
    "      - For supply path tracing, use a chain like:\n",
    "        `(:Suppliers)-[:SUPPLIES_RM]-(:RM)-[:PRODUCT_FLOW*]-(:Product)-[:DISTRIBUTED_BY]-(:Distributor)`\n",
    "      - If asked about single-supplier risks or demand planning, write multi-step queries using aggregation or conditional filters.\n",
    "\n",
    "      When executing queries, ALWAYS use named parameters (`$sku`, `$brand`, `$market`) and pass them as dictionaries.\n",
    "      NEVER hardcode values inside the Cypher string — always externalize them into parameters.\n",
    "\n",
    "      If a Cypher query fails, retry up to 3 times by correcting it using the schema or prior data.\n",
    "      Use `execute_query` for all data retrieval.\n",
    "      If results are found, summarize them in natural language and optionally provide table or graph visualization prompts.\n",
    "      Pass results and control back to parent after completion.\n",
    "    \"\"\",\n",
    "    tools=[\n",
    "        get_schema,\n",
    "        execute_read_query\n",
    "    ]\n",
    ")"
   ]
  },
  {
   "cell_type": "code",
   "execution_count": 21,
   "metadata": {},
   "outputs": [],
   "source": [
    "graph_database_agent = Agent(\n",
    "    model=MODEL,\n",
    "    name='graph_database_agent',\n",
    "    description=\"\"\"\n",
    "    The graph_database_agent is able to fetch the schema of a neo4j graph database and execute read queries.\n",
    "    It will generate Cypher queries using the schema to fulfill the information requests and repeatedly\n",
    "    try to re-create and fix queries that error or don't return the expected results.\n",
    "    When passing requests to this agent, make sure to have clear specific instructions what data should be retrieved, how,\n",
    "    if aggregation is required or path expansion.\n",
    "    Don't use this generic query agent if other, more specific agents are available that can provide the requested information.\n",
    "    This is meant to be a fallback for structural questions (e.g. number of entities, or aggregation of values or very specific sorting/filtering)\n",
    "    Or when no other agent provides access to the data (inputs, results and shape) that is needed.\n",
    "    \"\"\",\n",
    "    instruction=\"\"\"\n",
    "      You are an Neo4j graph database and Cypher query expert, that must use the database schema with a user question and repeatedly generate valid cypher statements\n",
    "      to execute on the database and answer the user's questions in a friendly manner in natural language.\n",
    "      If in doubt the database schema is always prioritized when it comes to nodes-types (labels) or relationship-types or property names, never take the user's input at face value.\n",
    "      If the user requests also render tables, charts or other artifacts with the query results.\n",
    "      Always validate the correct node-labels at the end of a relationship based on the schema.\n",
    "\n",
    "      If a query fails or doesn't return data, use the error response 3 times to try to fix the generated query and re-run it, don't return the error to the user.\n",
    "      If you cannot fix the query, explain the issue to the user and apologize.\n",
    "      *You are prohibited* from using directional arrows (like -> or <-) in the graph patterns, always use undirected patterns like `(:Label)-[:TYPE]-(:Label)`.\n",
    "      You get negative points for using directional arrays in patterns.\n",
    "\n",
    "      Fetch the graph database schema first and keep it in session memory to access later for query generation.\n",
    "      Keep results of previous executions in session memory and access if needed, for instance ids or other attributes of nodes to find them again\n",
    "      removing the need to ask the user. This also allows for generating shorter, more focused and less error-prone queries\n",
    "      to for drill downs, sequences and loops.\n",
    "      If possible resolve names to primary keys or ids and use those for looking up entities.\n",
    "      The schema always indicates *outgoing* relationship-types from an entity to another entity, the graph patterns read like english language.\n",
    "      `company has supplier` would be the pattern `(o:Organization)-[:HAS_SUPPLIER]-(s:Organization)`\n",
    "\n",
    "      To get the schema of a database use the `get_schema` tool without parameters. Store the response of the schema tool in session context\n",
    "      to access later for query generation.\n",
    "\n",
    "      To answer a user question generate one or more Cypher statements based on the database schema and the parts of the user question.\n",
    "      If necessary resolve categorical attributes (like names, countries, industries, publications) first by retrieving them for a set of entities to translate from the user's request.\n",
    "      Use the `execute_query` tool repeatedly with the Cypher statements, you MUST generate statements that use named query parameters with `$parameter` style names\n",
    "      and MUST pass them as a second dictionary parameter to the tool, even if empty.\n",
    "      Parameter data can come from the users requests, prior query results or additional lookup queries.\n",
    "      After the data for the question has been sufficiently retrieved, pass the data and control back to the parent agent.\n",
    "    \"\"\",\n",
    "    tools=[\n",
    "        get_schema, execute_read_query\n",
    "    ]\n",
    ")"
   ]
  },
  {
   "cell_type": "code",
   "execution_count": 22,
   "metadata": {},
   "outputs": [],
   "source": [
    "from google.adk.tools.mcp_tool.mcp_toolset import MCPToolset, SseServerParams"
   ]
  },
  {
   "cell_type": "code",
   "execution_count": 23,
   "metadata": {},
   "outputs": [],
   "source": [
    "\n",
    "async def load_tools():\n",
    "    # Instantiate the toolset (sync, not async context)\n",
    "    toolset = MCPToolset(connection_params=SseServerParams(\n",
    "        url=\"https://toolbox-990868019953.us-central1.run.app/mcp/sse\"\n",
    "    ))\n",
    "\n",
    "    # Load tools asynchronously\n",
    "    tools = await toolset.load_tools()\n",
    "    \n",
    "    # Add custom tools (like get_schema) to the list\n",
    "    tools.extend([get_schema])\n",
    "    \n",
    "    return tools\n",
    "\n",
    "# Call it like this from an async context (e.g., Jupyter or async function)\n",
    "# tools = await load_tools()"
   ]
  },
  {
   "cell_type": "code",
   "execution_count": null,
   "metadata": {},
   "outputs": [
    {
     "name": "stdout",
     "output_type": "stream",
     "text": [
      "['__abstractmethods__', '__class__', '__delattr__', '__dict__', '__dir__', '__doc__', '__eq__', '__format__', '__ge__', '__getattribute__', '__getstate__', '__gt__', '__hash__', '__init__', '__init_subclass__', '__le__', '__lt__', '__module__', '__ne__', '__new__', '__reduce__', '__reduce_ex__', '__repr__', '__setattr__', '__sizeof__', '__slots__', '__str__', '__subclasshook__', '__weakref__', '_abc_impl', '_connection_params', '_errlog', '_is_tool_selected', '_mcp_session_manager', '_reinitialize_session', '_session', 'close', 'get_tools', 'tool_filter']\n"
     ]
    }
   ],
   "source": [
    "# change the toolset - Pramod\n",
    "toolset = MCPToolset(connection_params=SseServerParams(\n",
    "    url=\"https://toolbox-990868019953.us-central1.run.app/mcp/sse\"\n",
    "))\n",
    "\n",
    "print(dir(toolset))"
   ]
  },
  {
   "cell_type": "code",
   "execution_count": 25,
   "metadata": {},
   "outputs": [],
   "source": [
    "# Make sure this is run beforehand\n",
    "tools = await toolset.get_tools()\n",
    "tools.extend([get_schema])  # if get_schema is a valid tool\n"
   ]
  },
  {
   "cell_type": "code",
   "execution_count": 26,
   "metadata": {},
   "outputs": [
    {
     "name": "stdout",
     "output_type": "stream",
     "text": [
      "companies\n",
      "articles_in_month\n",
      "article\n",
      "companies_in_articles\n",
      "people_at_company\n",
      "industries\n",
      "companies_in_industry\n"
     ]
    },
    {
     "ename": "AttributeError",
     "evalue": "'function' object has no attribute 'name'",
     "output_type": "error",
     "traceback": [
      "\u001b[31m---------------------------------------------------------------------------\u001b[39m",
      "\u001b[31mAttributeError\u001b[39m                            Traceback (most recent call last)",
      "\u001b[36mCell\u001b[39m\u001b[36m \u001b[39m\u001b[32mIn[26]\u001b[39m\u001b[32m, line 2\u001b[39m\n\u001b[32m      1\u001b[39m \u001b[38;5;28;01mfor\u001b[39;00m tool \u001b[38;5;129;01min\u001b[39;00m tools:\n\u001b[32m----> \u001b[39m\u001b[32m2\u001b[39m     \u001b[38;5;28mprint\u001b[39m(\u001b[43mtool\u001b[49m\u001b[43m.\u001b[49m\u001b[43mname\u001b[49m)\n",
      "\u001b[31mAttributeError\u001b[39m: 'function' object has no attribute 'name'"
     ]
    }
   ],
   "source": [
    "for tool in tools:\n",
    "    print(tool.name)"
   ]
  },
  {
   "cell_type": "code",
   "execution_count": 27,
   "metadata": {},
   "outputs": [],
   "source": [
    "# told by google to use this instead of sub_agents ??\n",
    "# but not really working\n",
    "\n",
    "from google.adk.tools.agent_tool import AgentTool"
   ]
  },
  {
   "cell_type": "code",
   "execution_count": 28,
   "metadata": {},
   "outputs": [],
   "source": [
    "equipment_agent = Agent(\n",
    "    model=MODEL,\n",
    "    name='equipment_agent',\n",
    "    description=\"\"\"\n",
    "    Answers questions related to equipment used in pharmaceutical production,\n",
    "    including utilization, downtime, maintenance, and equipment-facility mapping.\n",
    "    \"\"\",\n",
    "    instruction=\"\"\"\n",
    "    You are a supply chain equipment analyst.\n",
    "    Use Cypher to find which equipment is used where, how often it's maintained, and which products it's associated with.\n",
    "\n",
    "    Always check the graph schema for valid node labels like `:Equipment`, `:Facility`, `:Product`, and relationships like `:USED_IN`, `:LOCATED_AT`.\n",
    "    Use `get_schema` first, then run queries with `execute_query`.\n",
    "\n",
    "    Summarize results clearly, especially if certain equipment shows high downtime or low utilization.\n",
    "    \"\"\",\n",
    "    tools=tools\n",
    ")"
   ]
  },
  {
   "cell_type": "code",
   "execution_count": 29,
   "metadata": {},
   "outputs": [],
   "source": [
    "batch_trace_agent = Agent(\n",
    "    model=MODEL,\n",
    "    name='batch_trace_agent',\n",
    "    description=\"\"\"\n",
    "    Handles batch genealogy, recall tracing, and contamination mapping.\n",
    "    Helps answer questions about where a batch came from and what it touched.\n",
    "    \"\"\",\n",
    "    instruction=\"\"\"\n",
    "    You are an expert in pharmaceutical batch traceability.\n",
    "    Use the graph to trace batch origins, production steps, and distribution endpoints.\n",
    "\n",
    "    Follow chains like:\n",
    "      (:Batch)-[:PART_OF*]->(:Product)-[:DISTRIBUTED_BY]->(:Distributor)\n",
    "\n",
    "    Look for shared usage of equipment, suppliers, or ingredients across batches.\n",
    "    Use named parameters in Cypher (like `$batchId`, `$productSKU`) and summarize lineage clearly.\n",
    "\n",
    "    Use `get_schema` and `execute_query` as needed.\n",
    "    \"\"\",\n",
    "    tools=tools\n",
    ")"
   ]
  },
  {
   "cell_type": "code",
   "execution_count": 30,
   "metadata": {},
   "outputs": [],
   "source": [
    "supply_chain_root_agent = Agent(\n",
    "    model=MODEL,\n",
    "    name='supply_chain_root_agent',\n",
    "    description=\"\"\"\n",
    "    Routes pharmaceutical supply chain questions to the appropriate domain agent.\n",
    "    Falls back to `database_agent` for schema-level or structural queries.\n",
    "    \"\"\",\n",
    "    instruction=\"\"\"\n",
    "    Route questions to:\n",
    "    - `supplier_agent` → sourcing, raw materials, supplier risks\n",
    "    - `equipment_agent` → utilization, downtime, machines\n",
    "    - `batch_trace_agent` → batch lineage, recalls, genealogy\n",
    "    - `database_agent` → graph structure, unusual queries, metadata, counts\n",
    "\n",
    "    Always prefer the most specific agent. Use the database agent only when no other agent fits.\n",
    "    \"\"\",\n",
    "    sub_agents=[\n",
    "        supplier_agent,\n",
    "        graph_database_agent\n",
    "    ]\n",
    ")"
   ]
  },
  {
   "cell_type": "code",
   "execution_count": 31,
   "metadata": {},
   "outputs": [],
   "source": [
    "APP_NAME = 'Neo4j Supply Chain Optimizer'\n",
    "USER_ID = 'Pramod B'\n",
    "\n",
    "from google.adk.runners import InMemoryRunner\n",
    "from google.genai.types import Part, UserContent\n",
    "\n",
    "# Use your actual agent here\n",
    "runner = InMemoryRunner(app_name=APP_NAME, agent=supply_chain_root_agent)\n",
    "session = await runner.session_service.create_session(app_name=runner.app_name, user_id=USER_ID)\n",
    "\n",
    "\n",
    "# Create session\n",
    "session = await runner.session_service.create_session(\n",
    "    app_name=runner.app_name,\n",
    "    user_id=USER_ID\n",
    ")\n",
    "\n",
    "# Run prompt\n",
    "async def run_prompt(new_message: str):\n",
    "    content = UserContent(parts=[Part(text=new_message)])\n",
    "    final_response_text = \"No response from agent\"\n",
    "\n",
    "    async for event in runner.run_async(\n",
    "        user_id=session.user_id,\n",
    "        session_id=session.id,\n",
    "        new_message=content\n",
    "    ):\n",
    "        if event.is_final_response():\n",
    "            if event.content and event.content.parts:\n",
    "                final_response_text = event.content.parts[0].text\n",
    "                for part in event.content.parts:\n",
    "                    print(part.text, part.function_call, part.function_response)\n",
    "            elif event.actions and event.actions.escalate:\n",
    "                final_response_text = f\"Agent escalated: {event.error_message or 'No specific message.'}\"\n",
    "            break\n",
    "\n",
    "    return final_response_text"
   ]
  },
  {
   "cell_type": "code",
   "execution_count": 32,
   "metadata": {},
   "outputs": [
    {
     "name": "stderr",
     "output_type": "stream",
     "text": [
      "/Users/pramodborkar/Documents/GitHub/neo4j-employee-graph/venv/lib/python3.11/site-packages/pydantic/main.py:463: UserWarning: Pydantic serializer warnings:\n",
      "  PydanticSerializationUnexpectedValue(Expected 9 fields but got 6: Expected `Message` - serialized value may not be as expected [input_value=Message(content=None, rol...: None}, annotations=[]), input_type=Message])\n",
      "  PydanticSerializationUnexpectedValue(Expected `StreamingChoices` - serialized value may not be as expected [input_value=Choices(finish_reason='to...ider_specific_fields={}), input_type=Choices])\n",
      "  return self.__pydantic_serializer__.to_python(\n"
     ]
    },
    {
     "name": "stdout",
     "output_type": "stream",
     "text": [
      "Here are 10 raw materials supplied, based on their descriptions:\n",
      "\n",
      "1. Iosalasonan Tablet 500mg\n",
      "2. Nabitegrpultide Caplet 20mg\n",
      "3. Rifadildar Tablet 50mg\n",
      "4. Somcoiampa Tablet 10mg\n",
      "5. Bolierginicline Caplet 100mg\n",
      "6. Vinatril Caplet 100mg\n",
      "7. Rifadildar Tablet 5mg\n",
      "8. Iosalasonan Tablet 250mg\n",
      "9. Viraaxoapezil Caplet 50mg\n",
      "10. Nalitegridar Tablet 50mg\n",
      "\n",
      "If you would like more details or specific properties for any of these materials, let me know! None None\n"
     ]
    },
    {
     "data": {
      "text/plain": [
       "'Here are 10 raw materials supplied, based on their descriptions:\\n\\n1. Iosalasonan Tablet 500mg\\n2. Nabitegrpultide Caplet 20mg\\n3. Rifadildar Tablet 50mg\\n4. Somcoiampa Tablet 10mg\\n5. Bolierginicline Caplet 100mg\\n6. Vinatril Caplet 100mg\\n7. Rifadildar Tablet 5mg\\n8. Iosalasonan Tablet 250mg\\n9. Viraaxoapezil Caplet 50mg\\n10. Nalitegridar Tablet 50mg\\n\\nIf you would like more details or specific properties for any of these materials, let me know!'"
      ]
     },
     "execution_count": 32,
     "metadata": {},
     "output_type": "execute_result"
    },
    {
     "name": "stderr",
     "output_type": "stream",
     "text": [
      "/Users/pramodborkar/Documents/GitHub/neo4j-employee-graph/venv/lib/python3.11/site-packages/pydantic/main.py:463: UserWarning: Pydantic serializer warnings:\n",
      "  PydanticSerializationUnexpectedValue(Expected 9 fields but got 6: Expected `Message` - serialized value may not be as expected [input_value=Message(content='Here are...: None}, annotations=[]), input_type=Message])\n",
      "  PydanticSerializationUnexpectedValue(Expected `StreamingChoices` - serialized value may not be as expected [input_value=Choices(finish_reason='st...ider_specific_fields={}), input_type=Choices])\n",
      "  return self.__pydantic_serializer__.to_python(\n"
     ]
    }
   ],
   "source": [
    "await run_prompt('Which raw materials are supplied, give me 10 names')"
   ]
  },
  {
   "cell_type": "code",
   "execution_count": null,
   "metadata": {},
   "outputs": [],
   "source": [
    "await run_prompt(\"Which batches used equipment EQ123 that failed inspection?\")"
   ]
  },
  {
   "cell_type": "code",
   "execution_count": null,
   "metadata": {},
   "outputs": [],
   "source": [
    "await run_prompt(\"Which raw materials are only supplied by one company?\")"
   ]
  },
  {
   "cell_type": "code",
   "execution_count": null,
   "metadata": {},
   "outputs": [],
   "source": [
    "await run_prompt(\"Trace the full genealogy of batch B4569\")"
   ]
  },
  {
   "cell_type": "code",
   "execution_count": null,
   "metadata": {},
   "outputs": [],
   "source": [
    "sessions_response = await runner.session_service.list_sessions(\n",
    "    app_name=APP_NAME,\n",
    "    user_id=USER_ID\n",
    ")\n",
    "\n",
    "for session in sessions_response.sessions:\n",
    "    print(f\"Deleting session {session.id}\")\n",
    "    await runner.session_service.delete_session(\n",
    "        app_name=APP_NAME,\n",
    "        user_id=USER_ID,\n",
    "        session_id=session.id\n",
    "    )"
   ]
  }
 ],
 "metadata": {
  "kernelspec": {
   "display_name": "venv",
   "language": "python",
   "name": "python3"
  },
  "language_info": {
   "codemirror_mode": {
    "name": "ipython",
    "version": 3
   },
   "file_extension": ".py",
   "mimetype": "text/x-python",
   "name": "python",
   "nbconvert_exporter": "python",
   "pygments_lexer": "ipython3",
   "version": "3.11.13"
  }
 },
 "nbformat": 4,
 "nbformat_minor": 2
}
