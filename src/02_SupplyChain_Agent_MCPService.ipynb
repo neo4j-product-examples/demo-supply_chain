{
 "cells": [
  {
   "cell_type": "markdown",
   "metadata": {},
   "source": [
    "This is work in progress. Trying to create agents for Supplier, Equipment, Batch"
   ]
  },
  {
   "cell_type": "code",
   "execution_count": 1,
   "metadata": {},
   "outputs": [],
   "source": [
    "#!pip3 install --upgrade --quiet google-adk neo4j-rust-ext"
   ]
  },
  {
   "cell_type": "code",
   "execution_count": 2,
   "metadata": {},
   "outputs": [],
   "source": [
    "import os\n",
    "import random\n",
    "import sys"
   ]
  },
  {
   "cell_type": "code",
   "execution_count": null,
   "metadata": {},
   "outputs": [],
   "source": [
    "from google.adk.models.lite_llm import LiteLlm\n",
    "\n",
    "MODEL = LiteLlm(\n",
    "    model=\"openai/gpt-4.1\",\n",
    "    api_key=\"sk-\" \n",
    ")"
   ]
  },
  {
   "cell_type": "code",
   "execution_count": 4,
   "metadata": {},
   "outputs": [],
   "source": [
    "import logging\n",
    "\n",
    "logger = logging.getLogger('agent_neo4j_cypher')\n",
    "logger.info(\"Initializing Database for tools\")\n",
    "\n",
    "import logging\n",
    "\n",
    "logging.getLogger(\"neo4j\").setLevel(logging.INFO)\n",
    "logging.getLogger(\"google_genai\").setLevel(logging.INFO)\n",
    "\n",
    "import warnings\n",
    "warnings.filterwarnings(\"ignore\", category=UserWarning, module=\"google_genai.types\")\n",
    "warnings.filterwarnings(\"ignore\", category=UserWarning, module=\"neo4j.notifications\")\n"
   ]
  },
  {
   "cell_type": "code",
   "execution_count": 5,
   "metadata": {},
   "outputs": [],
   "source": [
    "#env setup\n",
    "import getpass\n",
    "import os\n",
    "from dotenv import load_dotenv\n",
    "\n",
    "#get env setup\n",
    "load_dotenv('scp.env', override=True)\n",
    "\n",
    "NEO4J_URI = os.getenv('NEO4J_URI')\n",
    "NEO4J_USERNAME = os.getenv('NEO4J_USERNAME')\n",
    "NEO4J_PASSWORD = os.getenv('NEO4J_PASSWORD')"
   ]
  },
  {
   "cell_type": "code",
   "execution_count": 6,
   "metadata": {},
   "outputs": [],
   "source": [
    "from neo4j import GraphDatabase\n",
    "from typing import Any\n",
    "import re\n",
    "\n",
    "class neo4jDatabase:\n",
    "    def __init__(self,  neo4j_uri: str, neo4j_username: str, neo4j_password: str):\n",
    "        \"\"\"Initialize connection to the Neo4j database\"\"\"\n",
    "        logger.debug(f\"Initializing database connection to {neo4j_uri}\")\n",
    "        d = GraphDatabase.driver(neo4j_uri, auth=(neo4j_username, neo4j_password))\n",
    "        d.verify_connectivity()\n",
    "        self.driver = d\n",
    "\n",
    "    def is_write_query(self, query: str) -> bool:\n",
    "      return re.search(r\"\\b(MERGE|CREATE|SET|DELETE|REMOVE|ADD)\\b\", query, re.IGNORECASE) is not None\n",
    "\n",
    "    def _execute_query(self, query: str, params: dict[str, Any] | None = None) -> list[dict[str, Any]]:\n",
    "        \"\"\"Execute a Cypher query and return results as a list of dictionaries\"\"\"\n",
    "        logger.debug(f\"Executing query: {query}\")\n",
    "        try:\n",
    "            if self.is_write_query(query):\n",
    "                logger.error(f\"Write query not supported {query}\")\n",
    "                raise \"Write Queries are not supported in this agent\"\n",
    "                # logger.debug(f\"Write query affected {counters}\")\n",
    "                # result = self.driver.execute_query(query, params)\n",
    "                # counters = vars(result.summary.counters)\n",
    "                # return [counters]\n",
    "            else:\n",
    "                result = self.driver.execute_query(query, params)\n",
    "                results = [dict(r) for r in result.records]\n",
    "                logger.debug(f\"Read query returned {len(results)} rows\")\n",
    "                return results\n",
    "        except Exception as e:\n",
    "            logger.error(f\"Database error executing query: {e}\\n{query}\")\n",
    "            raise"
   ]
  },
  {
   "cell_type": "code",
   "execution_count": 7,
   "metadata": {},
   "outputs": [],
   "source": [
    "db = neo4jDatabase(NEO4J_URI,NEO4J_USERNAME,NEO4J_PASSWORD)"
   ]
  },
  {
   "cell_type": "code",
   "execution_count": 8,
   "metadata": {},
   "outputs": [
    {
     "data": {
      "text/plain": [
       "[{'n': <Node element_id='4:c697636e-287e-427a-b5f3-65858f374b15:2557' labels=frozenset({'Suppliers'}) properties={'countryCode': 'US', 'companyName': 'ACME Biologics', 'iso3Code': 'USA'}>},\n",
       " {'n': <Node element_id='4:c697636e-287e-427a-b5f3-65858f374b15:61508' labels=frozenset({'RM', 'Product'}) properties={'generation': 'g1', 'productSKU': 'df4be3de-0c6b-4d2c-ac71-db4b9fbdf395', 'package': 'all', 'form': 'Tablet', 'strength': '5mg', 'materialType': 'RM', 'description': 'Iolescidib Tablet 5mg', 'location': 'Philadelphia PA/US', 'globalBrand': 'Iolescidib', 'rmSequence': 1}>}]"
      ]
     },
     "execution_count": 8,
     "metadata": {},
     "output_type": "execute_result"
    }
   ],
   "source": [
    "db._execute_query(\"match (n)-[]-() return n limit 2\")"
   ]
  },
  {
   "cell_type": "code",
   "execution_count": 9,
   "metadata": {},
   "outputs": [],
   "source": [
    "def get_schema() -> list[dict[str,Any]]:\n",
    "  \"\"\"Get the schema of the database, returns node-types(labels) with their types and attributes and relationships between node-labels\n",
    "  Args: None\n",
    "  Returns:\n",
    "    list[dict[str,Any]]: A list of dictionaries representing the schema of the database\n",
    "    For example\n",
    "    ```\n",
    "    [{'label': 'Person','attributes': {'summary': 'STRING','id': 'STRING unique indexed', 'name': 'STRING indexed'},\n",
    "      'relationships': {'HAS_PARENT': 'Person', 'HAS_CHILD': 'Person'}}]\n",
    "    ```\n",
    "  \"\"\"\n",
    "  try:\n",
    "      results = db._execute_query(\n",
    "              \"\"\"\n",
    "call apoc.meta.data() yield label, property, type, other, unique, index, elementType\n",
    "where elementType = 'node' and not label starts with '_'\n",
    "with label,\n",
    "collect(case when type <> 'RELATIONSHIP' then [property, type + case when unique then \" unique\" else \"\" end + case when index then \" indexed\" else \"\" end] end) as attributes,\n",
    "collect(case when type = 'RELATIONSHIP' then [property, head(other)] end) as relationships\n",
    "RETURN label, apoc.map.fromPairs(attributes) as attributes, apoc.map.fromPairs(relationships) as relationships\n",
    "              \"\"\"\n",
    "          )\n",
    "      return results\n",
    "  except Exception as e:\n",
    "      return [{\"error\":str(e)}]"
   ]
  },
  {
   "cell_type": "code",
   "execution_count": 10,
   "metadata": {},
   "outputs": [],
   "source": [
    "#get_schema()"
   ]
  },
  {
   "cell_type": "code",
   "execution_count": 11,
   "metadata": {},
   "outputs": [],
   "source": [
    "def execute_read_query(query: str, params: dict[str, Any]) -> list[dict[str, Any]]:\n",
    "    \"\"\"\n",
    "    Execute a Neo4j Cypher query and return results as a list of dictionaries\n",
    "    Args:\n",
    "        query (str): The Cypher query to execute\n",
    "        params (dict[str, Any], optional): The parameters to pass to the query or None.\n",
    "    Raises:\n",
    "        Exception: If there is an error executing the query\n",
    "    Returns:\n",
    "        list[dict[str, Any]]: A list of dictionaries representing the query results\n",
    "    \"\"\"\n",
    "    try:\n",
    "        if params is None:\n",
    "            params = {}\n",
    "        results = db._execute_query(query, params)\n",
    "        return results\n",
    "    except Exception as e:\n",
    "        return [{\"error\":str(e)}]"
   ]
  },
  {
   "cell_type": "code",
   "execution_count": 12,
   "metadata": {},
   "outputs": [
    {
     "data": {
      "text/plain": [
       "[{'1': 1}]"
      ]
     },
     "execution_count": 12,
     "metadata": {},
     "output_type": "execute_result"
    }
   ],
   "source": [
    "execute_read_query(\"RETURN 1\", None)"
   ]
  },
  {
   "cell_type": "markdown",
   "metadata": {},
   "source": [
    "SupplyChainAgent Python Function"
   ]
  },
  {
   "cell_type": "code",
   "execution_count": 13,
   "metadata": {},
   "outputs": [],
   "source": [
    "from typing import Any\n",
    "def get_supply_chain_path(product_sku: str, db) -> list[dict[str, Any]]:\n",
    "    \"\"\"\n",
    "    Traces the supply chain path for a given pharmaceutical product SKU.\n",
    "    \n",
    "    Args:\n",
    "        product_sku (str): The product SKU to trace.\n",
    "        db: A Neo4j database session with an `_execute_query` method.\n",
    "\n",
    "    Returns:\n",
    "        List of dicts with nodes and relationships along the path.\n",
    "    \"\"\"\n",
    "    try:\n",
    "        results = db._execute_query(\"\"\"\n",
    "            MATCH path = \n",
    "              (sup:Suppliers)-[:SUPPLIES_RM]->(rm:RM)\n",
    "              -[:PRODUCT_FLOW*]->(prod:Product)\n",
    "              -[:DISTRIBUTED_BY]->(dist:Distributor)\n",
    "            WHERE prod.productSKU = $sku\n",
    "            RETURN \n",
    "              [n IN nodes(path) | properties(n) + {labels: labels(n)}] AS nodes,\n",
    "              [r IN relationships(path) | properties(r) + {type: type(r)}] AS relationships\n",
    "        \"\"\", {\"sku\": product_sku})\n",
    "        return results\n",
    "    except Exception as e:\n",
    "        return [{\"error\": str(e)}]"
   ]
  },
  {
   "cell_type": "code",
   "execution_count": 14,
   "metadata": {},
   "outputs": [
    {
     "data": {
      "text/plain": [
       "{'tool_name': 'run_cypher_supply_chain',\n",
       " 'parameters': {'query': 'MATCH path = (sup:Suppliers)-[:SUPPLIES_RM]->(rm:RM)-[:PRODUCT_FLOW*]->(prod:Product)-[:DISTRIBUTED_BY]->(dist:Distributor) WHERE prod.productSKU = $sku RETURN [n IN nodes(path) | properties(n) + {labels: labels(n)}] AS nodes, [r IN relationships(path) | properties(r) + {type: type(r)}] AS relationships',\n",
       "  'parameters': {'sku': '7e882292-ae98-45eb-8119-596b5d8b73e1'}}}"
      ]
     },
     "execution_count": 14,
     "metadata": {},
     "output_type": "execute_result"
    }
   ],
   "source": [
    "# DONT NEED THIS\n",
    "{\n",
    "  \"tool_name\": \"run_cypher_supply_chain\",\n",
    "  \"parameters\": {\n",
    "    \"query\": \"MATCH path = (sup:Suppliers)-[:SUPPLIES_RM]->(rm:RM)-[:PRODUCT_FLOW*]->(prod:Product)-[:DISTRIBUTED_BY]->(dist:Distributor) WHERE prod.productSKU = $sku RETURN [n IN nodes(path) | properties(n) + {labels: labels(n)}] AS nodes, [r IN relationships(path) | properties(r) + {type: type(r)}] AS relationships\",\n",
    "    \"parameters\": {\n",
    "      \"sku\": \"7e882292-ae98-45eb-8119-596b5d8b73e1\"\n",
    "    }\n",
    "  }\n",
    "}"
   ]
  },
  {
   "cell_type": "code",
   "execution_count": 15,
   "metadata": {},
   "outputs": [],
   "source": [
    "from google.adk.agents import Agent"
   ]
  },
  {
   "cell_type": "code",
   "execution_count": 16,
   "metadata": {},
   "outputs": [],
   "source": [
    "# MODEL=\"gemini-2.5-pro-exp-03-25\""
   ]
  },
  {
   "cell_type": "code",
   "execution_count": 17,
   "metadata": {},
   "outputs": [],
   "source": [
    "from google.adk.agents import Agent\n",
    "\n",
    "supplier_agent = Agent(\n",
    "    model=MODEL,  # e.g. LiteLlm(model=\"openai/gpt-4\")\n",
    "    name='supplier_agent',\n",
    "    description=\"\"\"\n",
    "    The supply_chain_agent specializes in answering questions related to pharmaceutical supply chain flows,\n",
    "    raw material sourcing, batch traceability, and distributor demand.\n",
    "    It uses Cypher queries to retrieve structured insights from the graph, including supplier–API–drug product dependencies,\n",
    "    bottlenecks, and product lineage.\n",
    "    Use this agent when the user question involves anything from supplier relationships, product genealogy,\n",
    "    production stages, or distribution networks.\n",
    "    \"\"\",\n",
    "    instruction=\"\"\"\n",
    "      You are a pharmaceutical supply chain assistant with expertise in Neo4j and Cypher.\n",
    "      Your job is to trace product flows, map batch genealogy, and assess supply chain risk using graph data.\n",
    "\n",
    "      - You ALWAYS use the database schema first via the `get_schema` tool and cache it in memory.\n",
    "      - You generate Cypher queries based on the schema, not just user input — always verify labels and relationship types.\n",
    "      - For supply path tracing, use a chain like:\n",
    "        `(:Suppliers)-[:SUPPLIES_RM]-(:RM)-[:PRODUCT_FLOW*]-(:Product)-[:DISTRIBUTED_BY]-(:Distributor)`\n",
    "      - If asked about single-supplier risks or demand planning, write multi-step queries using aggregation or conditional filters.\n",
    "\n",
    "      When executing queries, ALWAYS use named parameters (`$sku`, `$brand`, `$market`) and pass them as dictionaries.\n",
    "      NEVER hardcode values inside the Cypher string — always externalize them into parameters.\n",
    "\n",
    "      If a Cypher query fails, retry up to 3 times by correcting it using the schema or prior data.\n",
    "      Use `execute_query` for all data retrieval.\n",
    "      If results are found, summarize them in natural language and optionally provide table or graph visualization prompts.\n",
    "      Pass results and control back to parent after completion.\n",
    "    \"\"\",\n",
    "    tools=[\n",
    "        get_schema,\n",
    "        execute_read_query\n",
    "    ]\n",
    ")"
   ]
  },
  {
   "cell_type": "code",
   "execution_count": 18,
   "metadata": {},
   "outputs": [],
   "source": [
    "graph_database_agent = Agent(\n",
    "    model=MODEL,\n",
    "    name='graph_database_agent',\n",
    "    description=\"\"\"\n",
    "    The graph_database_agent is able to fetch the schema of a neo4j graph database and execute read queries.\n",
    "    It will generate Cypher queries using the schema to fulfill the information requests and repeatedly\n",
    "    try to re-create and fix queries that error or don't return the expected results.\n",
    "    When passing requests to this agent, make sure to have clear specific instructions what data should be retrieved, how,\n",
    "    if aggregation is required or path expansion.\n",
    "    Don't use this generic query agent if other, more specific agents are available that can provide the requested information.\n",
    "    This is meant to be a fallback for structural questions (e.g. number of entities, or aggregation of values or very specific sorting/filtering)\n",
    "    Or when no other agent provides access to the data (inputs, results and shape) that is needed.\n",
    "    \"\"\",\n",
    "    instruction=\"\"\"\n",
    "      You are an Neo4j graph database and Cypher query expert, that must use the database schema with a user question and repeatedly generate valid cypher statements\n",
    "      to execute on the database and answer the user's questions in a friendly manner in natural language.\n",
    "      If in doubt the database schema is always prioritized when it comes to nodes-types (labels) or relationship-types or property names, never take the user's input at face value.\n",
    "      If the user requests also render tables, charts or other artifacts with the query results.\n",
    "      Always validate the correct node-labels at the end of a relationship based on the schema.\n",
    "\n",
    "      If a query fails or doesn't return data, use the error response 3 times to try to fix the generated query and re-run it, don't return the error to the user.\n",
    "      If you cannot fix the query, explain the issue to the user and apologize.\n",
    "      *You are prohibited* from using directional arrows (like -> or <-) in the graph patterns, always use undirected patterns like `(:Label)-[:TYPE]-(:Label)`.\n",
    "      You get negative points for using directional arrays in patterns.\n",
    "\n",
    "      Fetch the graph database schema first and keep it in session memory to access later for query generation.\n",
    "      Keep results of previous executions in session memory and access if needed, for instance ids or other attributes of nodes to find them again\n",
    "      removing the need to ask the user. This also allows for generating shorter, more focused and less error-prone queries\n",
    "      to for drill downs, sequences and loops.\n",
    "      If possible resolve names to primary keys or ids and use those for looking up entities.\n",
    "      The schema always indicates *outgoing* relationship-types from an entity to another entity, the graph patterns read like english language.\n",
    "      `company has supplier` would be the pattern `(o:Organization)-[:HAS_SUPPLIER]-(s:Organization)`\n",
    "\n",
    "      To get the schema of a database use the `get_schema` tool without parameters. Store the response of the schema tool in session context\n",
    "      to access later for query generation.\n",
    "\n",
    "      To answer a user question generate one or more Cypher statements based on the database schema and the parts of the user question.\n",
    "      If necessary resolve categorical attributes (like names, countries, industries, publications) first by retrieving them for a set of entities to translate from the user's request.\n",
    "      Use the `execute_query` tool repeatedly with the Cypher statements, you MUST generate statements that use named query parameters with `$parameter` style names\n",
    "      and MUST pass them as a second dictionary parameter to the tool, even if empty.\n",
    "      Parameter data can come from the users requests, prior query results or additional lookup queries.\n",
    "      After the data for the question has been sufficiently retrieved, pass the data and control back to the parent agent.\n",
    "    \"\"\",\n",
    "    tools=[\n",
    "        get_schema, execute_read_query\n",
    "    ]\n",
    ")"
   ]
  },
  {
   "cell_type": "code",
   "execution_count": 19,
   "metadata": {},
   "outputs": [],
   "source": [
    "# import httpx\n",
    "\n",
    "BASE_URL = \"https://supply-chain-toolset-373589861902.us-central1.run.app\"\n",
    "\n",
    "# def list_tools():\n",
    "#     response = httpx.get(f\"{BASE_URL}/tools\")\n",
    "#     return response.json()\n",
    "\n",
    "# def trace_supply_path(description: str):\n",
    "#     response = httpx.post(f\"{BASE_URL}/tools/trace_supply_path\", json={\"description\": description})\n",
    "#     return response.json()\n",
    "\n",
    "# if __name__ == \"__main__\":\n",
    "#     print(\"Available tools:\")\n",
    "#     for tool in list_tools():\n",
    "#         print(f\"- {tool['name']}: {tool['description']}\")\n",
    "\n",
    "#     result = trace_supply_path(\"Calciiarottecarin Caplet\")\n",
    "#     print(\"\\nSupply path result:\")\n",
    "#     print(result)"
   ]
  },
  {
   "cell_type": "code",
   "execution_count": 20,
   "metadata": {},
   "outputs": [],
   "source": [
    "import urllib.parse\n",
    "import httpx # Make sure httpx is imported at the top of your script\n",
    "import os\n",
    "import httpx\n",
    "import json\n",
    "import logging\n",
    "import asyncio\n",
    "from typing import Any, Callable, Coroutine, Dict, List\n",
    "from google.adk.agents import Agent\n",
    "from google.adk.tools import FunctionTool\n",
    "from google.adk.tools.mcp_tool.mcp_toolset import MCPToolset\n",
    "\n",
    "\n",
    "# This list should be at the top level of your script\n",
    "POST_TOOLS = [\n",
    "    \"trace_supply_path\",\n",
    "    \"dependency_chain\",\n",
    "    \"run_cypher\",\n",
    "    \"distributors_for_product\"\n",
    "]\n",
    "\n",
    "def create_remote_tool_caller(\n",
    "    tool_name: str,\n",
    "    description: str,\n",
    "    base_url: str\n",
    ") -> Callable[..., Coroutine[Any, Any, str]]:\n",
    "    \"\"\"\n",
    "    This factory creates an async function to call a remote tool.\n",
    "    It now uses a much longer timeout to handle slow database queries.\n",
    "    \"\"\"\n",
    "    async def remote_tool_func(**kwargs) -> str:\n",
    "        tool_endpoint = f\"{base_url}/tools/{tool_name}\"\n",
    "        logging.info(f\"Preparing to call tool: {tool_name} with args: {kwargs}\")\n",
    "        \n",
    "        # Set a longer timeout to prevent the client from giving up too early.\n",
    "        timeout_config = httpx.Timeout(120.0, connect=5.0)\n",
    "\n",
    "        async with httpx.AsyncClient(timeout=timeout_config) as client:\n",
    "            try:\n",
    "                if tool_name in POST_TOOLS:\n",
    "                    logging.info(f\"Calling {tool_name} with POST.\")\n",
    "                    response = await client.post(tool_endpoint, json=kwargs)\n",
    "                else:\n",
    "                    if kwargs:\n",
    "                        query_string = urllib.parse.urlencode(kwargs)\n",
    "                        full_url = f\"{tool_endpoint}?{query_string}\"\n",
    "                        logging.info(f\"Calling {tool_name} with GET and query params: {full_url}\")\n",
    "                        response = await client.get(full_url)\n",
    "                    else:\n",
    "                        logging.info(f\"Calling {tool_name} with GET (no args).\")\n",
    "                        response = await client.get(tool_endpoint)\n",
    "\n",
    "                response.raise_for_status()\n",
    "                return json.dumps(response.json())\n",
    "            \n",
    "            except httpx.HTTPStatusError as e:\n",
    "                error_message = f\"HTTP Error {e.response.status_code} for {e.request.url}\"\n",
    "                logging.error(f\"{error_message}. Server response: {e.response.text}\")\n",
    "                return json.dumps({\"error\": error_message, \"details\": e.response.text})\n",
    "            except httpx.RequestError as e:\n",
    "                # This will catch timeouts and other connection errors\n",
    "                error_message = f\"A network request error occurred calling {tool_name}: {type(e).__name__}\"\n",
    "                logging.error(error_message)\n",
    "                return json.dumps({\"error\": error_message})\n",
    "    \n",
    "    remote_tool_func.__name__ = tool_name\n",
    "    remote_tool_func.__doc__ = description\n",
    "    return remote_tool_func"
   ]
  },
  {
   "cell_type": "code",
   "execution_count": 21,
   "metadata": {},
   "outputs": [],
   "source": [
    "\n",
    "async def load_tools_from_remote_server(base_url: str) -> List[FunctionTool]:\n",
    "    tools_endpoint = f\"{base_url}/tools\"\n",
    "    print(f\"\\nFetching tool definitions from: {tools_endpoint}\")\n",
    "    try:\n",
    "        async with httpx.AsyncClient() as client:\n",
    "            response = await client.get(tools_endpoint)\n",
    "            response.raise_for_status()\n",
    "            tool_definitions = response.json() # This is a LIST\n",
    "    except httpx.RequestError as e:\n",
    "        print(f\"FATAL: Could not fetch tools from server: {e}\")\n",
    "        return []\n",
    "\n",
    "    adk_tools = []\n",
    "\n",
    "     # --- Descriptions are now enhanced based on the Neo4j demo ---\n",
    "    for tool_info in tool_definitions:\n",
    "        tool_name = tool_info.get(\"name\")\n",
    "        if not tool_name: continue\n",
    "\n",
    "      \n",
    "        description = tool_info.get(\"description\", \"\")\n",
    "\n",
    "        # --- Provide detailed descriptions to guide the agent ---\n",
    "        if tool_name == \"trace_supply_path\" or tool_name == \"dependency_chain\":\n",
    "            description = (\n",
    "                \"Traces the full supply path for a product, from suppliers to distributors. \"\n",
    "                \"Use this for questions about product genealogy, origins, or to see the entire chain. \"\n",
    "                \"Requires a 'description' parameter containing the product name. \"\n",
    "                \"Example: {'description': 'Nabitegrpultide Caplet 50mg'}\"\n",
    "            )\n",
    "        elif tool_name == \"distributors_for_product\":\n",
    "            description = (\n",
    "                \"Finds all distributors for a specific product. \"\n",
    "                \"Requires a 'description' parameter. Example: {'description': 'Nabitegrpultide Caplet 50mg'}\"\n",
    "            )\n",
    "        elif tool_name == \"find_single_supplier_risks\":\n",
    "            description = (\n",
    "                \"Finds raw materials that are only supplied by a single company, highlighting potential risks.\"\n",
    "            )\n",
    "        elif tool_name == \"run_cypher\":\n",
    "            description = (\n",
    "                \"A powerful expert tool to execute a custom Cypher query against the database. \"\n",
    "                \"Only use this if no other specific tool can answer the user's question. \"\n",
    "                \"It REQUIRES a 'query' parameter with the Cypher string. \"\n",
    "                \"Example: {'query': 'MATCH (s:Suppliers) RETURN s.companyName LIMIT 5'}\"\n",
    "            )\n",
    "        \n",
    "        print(f\"  - Creating ADK tool for: {tool_name}\")\n",
    "        \n",
    "        tool_function = create_remote_tool_caller(\n",
    "            tool_name=tool_name, description=description, base_url=base_url\n",
    "        )\n",
    "        adk_tools.append(FunctionTool(func=tool_function))\n",
    "       \n",
    "    \n",
    "    print(f\"Successfully created {len(adk_tools)} tools from MCP service\")\n",
    "    return adk_tools"
   ]
  },
  {
   "cell_type": "code",
   "execution_count": 24,
   "metadata": {},
   "outputs": [],
   "source": [
    "# from google.adk.toolsets import HttpToolset\n",
    "# from google.adk.types import HttpConnectionParams\n",
    "\n",
    "# async def load_tools():\n",
    "#     toolset = HttpToolset(connection_params=HttpConnectionParams(\n",
    "#         base_url=\"https://supply-chain-toolset-373589861902.us-central1.run.app\"\n",
    "#     ))\n",
    "\n",
    "#     tools = await toolset.load_tools()\n",
    "\n",
    "#     # Optionally add any local or extra tools manually\n",
    "#     tools.extend([get_schema])  # if defined\n",
    "\n",
    "#     return tools"
   ]
  },
  {
   "cell_type": "code",
   "execution_count": 25,
   "metadata": {},
   "outputs": [],
   "source": [
    "# # Make sure this is run beforehand\n",
    "# tools = await toolset.get_tools()\n",
    "# tools.extend([get_schema])  # if get_schema is a valid tool\n",
    "\n",
    "# for tool in tools:\n",
    "#     print(tool.name)"
   ]
  },
  {
   "cell_type": "code",
   "execution_count": null,
   "metadata": {},
   "outputs": [],
   "source": [
    "\n",
    "from google.adk.tools.agent_tool import AgentTool"
   ]
  },
  {
   "cell_type": "code",
   "execution_count": 27,
   "metadata": {},
   "outputs": [
    {
     "ename": "NameError",
     "evalue": "name 'tools' is not defined",
     "output_type": "error",
     "traceback": [
      "\u001b[31m---------------------------------------------------------------------------\u001b[39m",
      "\u001b[31mNameError\u001b[39m                                 Traceback (most recent call last)",
      "\u001b[36mCell\u001b[39m\u001b[36m \u001b[39m\u001b[32mIn[27]\u001b[39m\u001b[32m, line 17\u001b[39m\n\u001b[32m      1\u001b[39m equipment_agent = Agent(\n\u001b[32m      2\u001b[39m     model=MODEL,\n\u001b[32m      3\u001b[39m     name=\u001b[33m'\u001b[39m\u001b[33mequipment_agent\u001b[39m\u001b[33m'\u001b[39m,\n\u001b[32m      4\u001b[39m     description=\u001b[33m\"\"\"\u001b[39m\n\u001b[32m      5\u001b[39m \u001b[33m    Answers questions related to equipment used in pharmaceutical production,\u001b[39m\n\u001b[32m      6\u001b[39m \u001b[33m    including utilization, downtime, maintenance, and equipment-facility mapping.\u001b[39m\n\u001b[32m      7\u001b[39m \u001b[33m    \u001b[39m\u001b[33m\"\"\"\u001b[39m,\n\u001b[32m      8\u001b[39m     instruction=\u001b[33m\"\"\"\u001b[39m\n\u001b[32m      9\u001b[39m \u001b[33m    You are a supply chain equipment analyst.\u001b[39m\n\u001b[32m     10\u001b[39m \u001b[33m    Use Cypher to find which equipment is used where, how often it\u001b[39m\u001b[33m'\u001b[39m\u001b[33ms maintained, and which products it\u001b[39m\u001b[33m'\u001b[39m\u001b[33ms associated with.\u001b[39m\n\u001b[32m     11\u001b[39m \n\u001b[32m     12\u001b[39m \u001b[33m    Always check the graph schema for valid node labels like `:Equipment`, `:Facility`, `:Product`, and relationships like `:USED_IN`, `:LOCATED_AT`.\u001b[39m\n\u001b[32m     13\u001b[39m \u001b[33m    Use `get_schema` first, then run queries with `execute_query`.\u001b[39m\n\u001b[32m     14\u001b[39m \n\u001b[32m     15\u001b[39m \u001b[33m    Summarize results clearly, especially if certain equipment shows high downtime or low utilization.\u001b[39m\n\u001b[32m     16\u001b[39m \u001b[33m    \u001b[39m\u001b[33m\"\"\"\u001b[39m,\n\u001b[32m---> \u001b[39m\u001b[32m17\u001b[39m     tools=\u001b[43mtools\u001b[49m\n\u001b[32m     18\u001b[39m )\n",
      "\u001b[31mNameError\u001b[39m: name 'tools' is not defined"
     ]
    }
   ],
   "source": [
    "equipment_agent = Agent(\n",
    "    model=MODEL,\n",
    "    name='equipment_agent',\n",
    "    description=\"\"\"\n",
    "    Answers questions related to equipment used in pharmaceutical production,\n",
    "    including utilization, downtime, maintenance, and equipment-facility mapping.\n",
    "    \"\"\",\n",
    "    instruction=\"\"\"\n",
    "    You are a supply chain equipment analyst.\n",
    "    Use Cypher to find which equipment is used where, how often it's maintained, and which products it's associated with.\n",
    "\n",
    "    Always check the graph schema for valid node labels like `:Equipment`, `:Facility`, `:Product`, and relationships like `:USED_IN`, `:LOCATED_AT`.\n",
    "    Use `get_schema` first, then run queries with `execute_query`.\n",
    "\n",
    "    Summarize results clearly, especially if certain equipment shows high downtime or low utilization.\n",
    "    \"\"\",\n",
    "    tools=tools\n",
    ")"
   ]
  },
  {
   "cell_type": "code",
   "execution_count": null,
   "metadata": {},
   "outputs": [],
   "source": [
    "batch_trace_agent = Agent(\n",
    "    model=MODEL,\n",
    "    name='batch_trace_agent',\n",
    "    description=\"\"\"\n",
    "    Handles batch genealogy, recall tracing, and contamination mapping.\n",
    "    Helps answer questions about where a batch came from and what it touched.\n",
    "    \"\"\",\n",
    "    instruction=\"\"\"\n",
    "    You are an expert in pharmaceutical batch traceability.\n",
    "    Use the graph to trace batch origins, production steps, and distribution endpoints.\n",
    "\n",
    "    Follow chains like:\n",
    "      (:Batch)-[:PART_OF*]->(:Product)-[:DISTRIBUTED_BY]->(:Distributor)\n",
    "\n",
    "    Look for shared usage of equipment, suppliers, or ingredients across batches.\n",
    "    Use named parameters in Cypher (like `$batchId`, `$productSKU`) and summarize lineage clearly.\n",
    "\n",
    "    Use `get_schema` and `execute_query` as needed.\n",
    "    \"\"\",\n",
    "    tools=tools\n",
    ")"
   ]
  },
  {
   "cell_type": "code",
   "execution_count": 28,
   "metadata": {},
   "outputs": [
    {
     "name": "stdout",
     "output_type": "stream",
     "text": [
      "\n",
      "Fetching tool definitions from: https://supply-chain-toolset-373589861902.us-central1.run.app/tools\n",
      "  - Creating ADK tool for: trace_supply_path\n",
      "  - Creating ADK tool for: dependency_chain\n",
      "  - Creating ADK tool for: find_single_supplier_risks\n",
      "  - Creating ADK tool for: top_suppliers_by_product_count\n",
      "  - Creating ADK tool for: raw_materials_by_supplier_count\n",
      "  - Creating ADK tool for: api_dependency_risk\n",
      "  - Creating ADK tool for: distributors_for_product\n",
      "  - Creating ADK tool for: run_cypher\n",
      "  - Creating ADK tool for: get_schema\n",
      "Successfully created 9 tools from MCP service\n"
     ]
    }
   ],
   "source": [
    "remote_tools = await load_tools_from_remote_server(BASE_URL)\n",
    "\n",
    "remote_scp_agent = Agent(\n",
    "        name=\"remote_scp_agent\",\n",
    "        description=\"\"\"Use this agent to access a set of external, remote tools from the MCPServer.\n",
    "This agent can answer questions about product genealogy, dependency chains, and distributor information.\n",
    "It is the ONLY agent that can trace supply paths or find distributors.\"\"\",\n",
    "        model=MODEL,\n",
    "        tools=remote_tools,\n",
    "        instruction=\"\"\"You are an expert analyst for a pharmaceutical supply chain graph. Your goal is to answer user questions by selecting the best tool and providing the correct arguments.\n",
    "Your process MUST be:\n",
    "1.  Carefully analyze the user's query to understand their core task (e.g., 'trace a path', 'find distributors').\n",
    "2.  Identify key entities in the query, especially the full product name like 'Nabitegrpultide Caplet 50mg'.\n",
    "3.  Review your available tools and select the one that is the best semantic match for the user's task.\n",
    "4.  If the chosen tool requires a 'description' parameter, you MUST use the full product name you identified in step 2 as its value.\n",
    "5.  Do not call a tool that requires a description without providing one. If you cannot find a product name in the query, you must ask the user for clarification.\n",
    "\"\"\"\n",
    "    )"
   ]
  },
  {
   "cell_type": "code",
   "execution_count": 29,
   "metadata": {},
   "outputs": [],
   "source": [
    "supply_chain_root_agent = Agent(\n",
    "    model=MODEL,\n",
    "    name='supply_chain_root_agent',\n",
    "    description=\"\"\"\n",
    "    Routes pharmaceutical supply chain questions to the appropriate domain agent.\n",
    "    Falls back to `database_agent` for schema-level or structural queries.\n",
    "    \"\"\",\n",
    "    instruction=\"\"\"\n",
    "    Route questions to:\n",
    "    - `supplier_agent` → sourcing, raw materials, supplier risks\n",
    "    - `equipment_agent` → utilization, downtime, machines\n",
    "    - `batch_trace_agent` → batch lineage, recalls, genealogy\n",
    "    - `database_agent` → graph structure, unusual queries, metadata, counts\n",
    "\n",
    "    Always prefer the most specific agent. Use the database agent only when no other agent fits.\n",
    "    \"\"\",\n",
    "    sub_agents=[\n",
    "        remote_scp_agent,\n",
    "        supplier_agent,\n",
    "    ]\n",
    ")"
   ]
  },
  {
   "cell_type": "code",
   "execution_count": 30,
   "metadata": {},
   "outputs": [],
   "source": [
    "APP_NAME = 'Neo4j Supply Chain Optimizer'\n",
    "USER_ID = 'Mr. Neo'\n",
    "\n",
    "from google.adk.runners import InMemoryRunner\n",
    "from google.genai.types import Part, UserContent\n",
    "\n",
    "# Use your actual agent here\n",
    "runner = InMemoryRunner(app_name=APP_NAME, agent=supply_chain_root_agent)\n",
    "session = await runner.session_service.create_session(app_name=runner.app_name, user_id=USER_ID)\n",
    "\n",
    "\n",
    "# Create session\n",
    "session = await runner.session_service.create_session(\n",
    "    app_name=runner.app_name,\n",
    "    user_id=USER_ID\n",
    ")\n",
    "\n",
    "# Run prompt\n",
    "async def run_prompt(new_message: str):\n",
    "    content = UserContent(parts=[Part(text=new_message)])\n",
    "    final_response_text = \"No response from agent\"\n",
    "\n",
    "    async for event in runner.run_async(\n",
    "        user_id=session.user_id,\n",
    "        session_id=session.id,\n",
    "        new_message=content\n",
    "    ):\n",
    "        if event.is_final_response():\n",
    "            if event.content and event.content.parts:\n",
    "                final_response_text = event.content.parts[0].text\n",
    "                for part in event.content.parts:\n",
    "                    print(part.text, part.function_call, part.function_response)\n",
    "            elif event.actions and event.actions.escalate:\n",
    "                final_response_text = f\"Agent escalated: {event.error_message or 'No specific message.'}\"\n",
    "            break\n",
    "\n",
    "    return final_response_text"
   ]
  },
  {
   "cell_type": "code",
   "execution_count": 31,
   "metadata": {},
   "outputs": [
    {
     "name": "stdout",
     "output_type": "stream",
     "text": [
      "To answer which raw materials are supplied, I queried the database for all RM (raw material) nodes that are connected to Suppliers through the relationship SUPPLIES_RM. I then retrieved a distinct set of their descriptions, limited to 100 names.\n",
      "\n",
      "Here are 100 example raw materials being supplied:\n",
      "- Sulfaipredimultin Tablet 50mg\n",
      "- Predformin Caplet 5mg\n",
      "- Rifaiplanin Tablet 100mg\n",
      "- Nabitegrpultide Caplet 20mg\n",
      "- Perfluicoxib Tablet 250mg\n",
      "- Rifadildar Tablet 10mg\n",
      "- Bolierginicline Caplet 250mg\n",
      "- Viraaxoapezil Caplet 50mg\n",
      "- Iolescidib Tablet 10mg\n",
      "- Predformin Caplet 10mg\n",
      "(and 90 more...)\n",
      "\n",
      "How I found out:\n",
      "- I used the database schema to identify that the RM label represents raw materials, and that the SUPPLIES_RM relationship from Suppliers connects to these.\n",
      "- I executed a Cypher query: MATCH (s:Suppliers)-[:SUPPLIES_RM]->(rm:RM) RETURN DISTINCT rm.description AS raw_material_name LIMIT 100.\n",
      "- No external agent was needed, I (the supplier_agent) performed the lookup using Cypher, based on schema understanding.\n",
      "\n",
      "Visualization prompt: You may want to visualize this as a list/table of raw material names or as a simple graph connecting Supplier nodes to RM nodes. Let me know if you'd like to see this visualized! None None\n"
     ]
    },
    {
     "data": {
      "text/plain": [
       "\"To answer which raw materials are supplied, I queried the database for all RM (raw material) nodes that are connected to Suppliers through the relationship SUPPLIES_RM. I then retrieved a distinct set of their descriptions, limited to 100 names.\\n\\nHere are 100 example raw materials being supplied:\\n- Sulfaipredimultin Tablet 50mg\\n- Predformin Caplet 5mg\\n- Rifaiplanin Tablet 100mg\\n- Nabitegrpultide Caplet 20mg\\n- Perfluicoxib Tablet 250mg\\n- Rifadildar Tablet 10mg\\n- Bolierginicline Caplet 250mg\\n- Viraaxoapezil Caplet 50mg\\n- Iolescidib Tablet 10mg\\n- Predformin Caplet 10mg\\n(and 90 more...)\\n\\nHow I found out:\\n- I used the database schema to identify that the RM label represents raw materials, and that the SUPPLIES_RM relationship from Suppliers connects to these.\\n- I executed a Cypher query: MATCH (s:Suppliers)-[:SUPPLIES_RM]->(rm:RM) RETURN DISTINCT rm.description AS raw_material_name LIMIT 100.\\n- No external agent was needed, I (the supplier_agent) performed the lookup using Cypher, based on schema understanding.\\n\\nVisualization prompt: You may want to visualize this as a list/table of raw material names or as a simple graph connecting Supplier nodes to RM nodes. Let me know if you'd like to see this visualized!\""
      ]
     },
     "execution_count": 31,
     "metadata": {},
     "output_type": "execute_result"
    }
   ],
   "source": [
    "await run_prompt('Which raw materials are supplied, give me 100 names and tell how you found out, which agent did you call')"
   ]
  },
  {
   "cell_type": "code",
   "execution_count": null,
   "metadata": {},
   "outputs": [],
   "source": [
    "await run_prompt(\"for the above questions, did you call MCPServer toolset ?\")"
   ]
  },
  {
   "cell_type": "code",
   "execution_count": 32,
   "metadata": {},
   "outputs": [
    {
     "name": "stdout",
     "output_type": "stream",
     "text": [
      "Yes, I can invoke the MCP toolset to answer this type of question.\n",
      "\n",
      "To retrieve 100 supplied raw material names, I used the MCP expert Cypher tool, which allows for advanced custom queries across the pharmaceutical supply chain database.\n",
      "\n",
      "Specifically, I called the run_cypher tool with the following query:\n",
      "MATCH (s:Suppliers)-[:SUPPLIES_RM]->(rm:RM) RETURN DISTINCT rm.description AS raw_material_name LIMIT 100\n",
      "\n",
      "This returns a distinct list of up to 100 raw material descriptions that are supplied by any supplier in the system.\n",
      "\n",
      "Here are some example raw materials returned by this tool:\n",
      "- Sulfaipredimultin Tablet 50mg\n",
      "- Predformin Caplet 5mg\n",
      "- Rifaiplanin Tablet 100mg\n",
      "- Nabitegrpultide Caplet 20mg\n",
      "- Perfluicoxib Tablet 250mg\n",
      "- Rifadildar Tablet 10mg\n",
      "- Bolierginicline Caplet 250mg\n",
      "- Viraaxoapezil Caplet 50mg\n",
      "- Iolescidib Tablet 10mg\n",
      "- Predformin Caplet 10mg\n",
      "...and more (up to 100 in total).\n",
      "\n",
      "Summary of the process:\n",
      "- Toolset used: MCP \"run_cypher\" tool.\n",
      "- Method: Searched all RM (raw material) nodes with an incoming SUPPLIES_RM relationship from Supplier nodes; displayed distinct descriptions, limiting to 100.\n",
      "\n",
      "Let me know if you need the full list, want details on a specific material, or would like to visualize this data! None None\n"
     ]
    },
    {
     "data": {
      "text/plain": [
       "'Yes, I can invoke the MCP toolset to answer this type of question.\\n\\nTo retrieve 100 supplied raw material names, I used the MCP expert Cypher tool, which allows for advanced custom queries across the pharmaceutical supply chain database.\\n\\nSpecifically, I called the run_cypher tool with the following query:\\nMATCH (s:Suppliers)-[:SUPPLIES_RM]->(rm:RM) RETURN DISTINCT rm.description AS raw_material_name LIMIT 100\\n\\nThis returns a distinct list of up to 100 raw material descriptions that are supplied by any supplier in the system.\\n\\nHere are some example raw materials returned by this tool:\\n- Sulfaipredimultin Tablet 50mg\\n- Predformin Caplet 5mg\\n- Rifaiplanin Tablet 100mg\\n- Nabitegrpultide Caplet 20mg\\n- Perfluicoxib Tablet 250mg\\n- Rifadildar Tablet 10mg\\n- Bolierginicline Caplet 250mg\\n- Viraaxoapezil Caplet 50mg\\n- Iolescidib Tablet 10mg\\n- Predformin Caplet 10mg\\n...and more (up to 100 in total).\\n\\nSummary of the process:\\n- Toolset used: MCP \"run_cypher\" tool.\\n- Method: Searched all RM (raw material) nodes with an incoming SUPPLIES_RM relationship from Supplier nodes; displayed distinct descriptions, limiting to 100.\\n\\nLet me know if you need the full list, want details on a specific material, or would like to visualize this data!'"
      ]
     },
     "execution_count": 32,
     "metadata": {},
     "output_type": "execute_result"
    }
   ],
   "source": [
    "await run_prompt(\"can you invoke the MCP toolset to answer the question?\")"
   ]
  },
  {
   "cell_type": "code",
   "execution_count": null,
   "metadata": {},
   "outputs": [],
   "source": [
    "await run_prompt(\"Which batches used equipment EQ123 that failed inspection?\")"
   ]
  },
  {
   "cell_type": "code",
   "execution_count": null,
   "metadata": {},
   "outputs": [],
   "source": [
    "await run_prompt(\"Which raw materials are only supplied by one company?\")"
   ]
  },
  {
   "cell_type": "code",
   "execution_count": null,
   "metadata": {},
   "outputs": [],
   "source": [
    "await run_prompt(\"Trace the full genealogy of batch B4569\")"
   ]
  },
  {
   "cell_type": "code",
   "execution_count": null,
   "metadata": {},
   "outputs": [],
   "source": [
    "sessions_response = await runner.session_service.list_sessions(\n",
    "    app_name=APP_NAME,\n",
    "    user_id=USER_ID\n",
    ")\n",
    "\n",
    "for session in sessions_response.sessions:\n",
    "    print(f\"Deleting session {session.id}\")\n",
    "    await runner.session_service.delete_session(\n",
    "        app_name=APP_NAME,\n",
    "        user_id=USER_ID,\n",
    "        session_id=session.id\n",
    "    )"
   ]
  },
  {
   "cell_type": "code",
   "execution_count": null,
   "metadata": {},
   "outputs": [],
   "source": [
    "await run_prompt('GIVE me all suppliers for this material Nabitegrpultide and which agent is used ')"
   ]
  }
 ],
 "metadata": {
  "kernelspec": {
   "display_name": "venv",
   "language": "python",
   "name": "python3"
  },
  "language_info": {
   "codemirror_mode": {
    "name": "ipython",
    "version": 3
   },
   "file_extension": ".py",
   "mimetype": "text/x-python",
   "name": "python",
   "nbconvert_exporter": "python",
   "pygments_lexer": "ipython3",
   "version": "3.11.13"
  }
 },
 "nbformat": 4,
 "nbformat_minor": 2
}
